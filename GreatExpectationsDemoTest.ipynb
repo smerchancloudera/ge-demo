{
 "cells": [
  {
   "cell_type": "markdown",
   "id": "ed1ccb7d-a7a2-47c2-af08-a576c4c014ef",
   "metadata": {},
   "source": [
    "# Great Expectations applied to Iceberg table on CDW\n",
    "The exercise is to run some quality test that wil be performed and then save the results on a iceberg table in order to can generate a time-based evolution dashboard.\n"
   ]
  },
  {
   "cell_type": "code",
   "execution_count": 21,
   "id": "cbcef58c-8567-4d1b-828a-70f9d496fc7a",
   "metadata": {
    "tags": []
   },
   "outputs": [],
   "source": [
    "# The variables:\n",
    "source_database=\"spain_gas_prices\"\n",
    "source_table=\"bv_gasprices_locations_latest_prices_view_v1\"\n",
    "limit=\"\" #\" order by ingestdate desc limit 100000\" to prevent spark sql memory errors\n",
    "quality_database=\"spain_gas_prices\"\n",
    "quality_table=\"quality_rules_history\"\n",
    "cloudera_data_virtual_warehouse=\"smerchan-vw-demo\""
   ]
  },
  {
   "cell_type": "markdown",
   "id": "0c1988e9-cae7-436f-888b-eb94ece066a7",
   "metadata": {},
   "source": [
    "## Great Expectation install\n",
    "using pip\n",
    "First thing is to install great expectations. Or recheck it :-)\n"
   ]
  },
  {
   "cell_type": "code",
   "execution_count": 17,
   "id": "15cd8b37-0ed1-42bb-91c7-e8d6ce75d717",
   "metadata": {
    "tags": []
   },
   "outputs": [
    {
     "name": "stdout",
     "output_type": "stream",
     "text": [
      "Requirement already satisfied: great_expectations in /home/cdsw/.local/lib/python3.10/site-packages (0.18.13)\n",
      "Requirement already satisfied: altair<5.0.0,>=4.2.1 in /home/cdsw/.local/lib/python3.10/site-packages (from great_expectations) (4.2.2)\n",
      "Requirement already satisfied: Click>=7.1.2 in /runtime-addons/cmladdon-2.0.45-b80/opt/cmladdons/python/site-packages (from great_expectations) (8.1.3)\n",
      "Requirement already satisfied: colorama>=0.4.3 in /usr/local/lib/python3.10/site-packages (from great_expectations) (0.4.6)\n",
      "Requirement already satisfied: cryptography>=3.2 in /home/cdsw/.local/lib/python3.10/site-packages (from great_expectations) (42.0.7)\n",
      "Requirement already satisfied: Ipython>=7.16.3 in /usr/local/lib/python3.10/site-packages (from great_expectations) (8.10.0)\n",
      "Requirement already satisfied: ipywidgets>=7.5.1 in /home/cdsw/.local/lib/python3.10/site-packages (from great_expectations) (8.1.2)\n",
      "Requirement already satisfied: jinja2>=2.10 in /usr/local/lib/python3.10/site-packages (from great_expectations) (3.1.2)\n",
      "Requirement already satisfied: jsonpatch>=1.22 in /home/cdsw/.local/lib/python3.10/site-packages (from great_expectations) (1.33)\n",
      "Requirement already satisfied: jsonschema>=2.5.1 in /usr/local/lib/python3.10/site-packages (from great_expectations) (4.17.3)\n",
      "Requirement already satisfied: makefun<2,>=1.7.0 in /home/cdsw/.local/lib/python3.10/site-packages (from great_expectations) (1.15.2)\n",
      "Requirement already satisfied: marshmallow<4.0.0,>=3.7.1 in /home/cdsw/.local/lib/python3.10/site-packages (from great_expectations) (3.21.2)\n",
      "Requirement already satisfied: mistune>=0.8.4 in /usr/local/lib/python3.10/site-packages (from great_expectations) (2.0.5)\n",
      "Requirement already satisfied: nbformat>=5.0 in /usr/local/lib/python3.10/site-packages (from great_expectations) (5.7.3)\n",
      "Requirement already satisfied: notebook>=6.4.10 in /usr/local/lib/python3.10/site-packages (from great_expectations) (6.5.4)\n",
      "Requirement already satisfied: packaging in /usr/local/lib/python3.10/site-packages (from great_expectations) (23.1)\n",
      "Requirement already satisfied: pydantic>=1.9.2 in /usr/local/lib/python3.10/site-packages (from great_expectations) (1.10.7)\n",
      "Requirement already satisfied: pyparsing>=2.4 in /usr/local/lib/python3.10/site-packages (from great_expectations) (3.0.9)\n",
      "Requirement already satisfied: python-dateutil>=2.8.1 in /usr/local/lib/python3.10/site-packages (from great_expectations) (2.8.2)\n",
      "Requirement already satisfied: pytz>=2021.3 in /usr/local/lib/python3.10/site-packages (from great_expectations) (2023.3.post1)\n",
      "Requirement already satisfied: requests>=2.20 in /usr/local/lib/python3.10/site-packages (from great_expectations) (2.31.0)\n",
      "Requirement already satisfied: ruamel.yaml<0.17.18,>=0.16 in /home/cdsw/.local/lib/python3.10/site-packages (from great_expectations) (0.17.17)\n",
      "Requirement already satisfied: scipy>=1.6.0 in /home/cdsw/.local/lib/python3.10/site-packages (from great_expectations) (1.13.0)\n",
      "Requirement already satisfied: tqdm>=4.59.0 in /home/cdsw/.local/lib/python3.10/site-packages (from great_expectations) (4.66.4)\n",
      "Requirement already satisfied: typing-extensions>=3.10.0.0 in /usr/local/lib/python3.10/site-packages (from great_expectations) (4.5.0)\n",
      "Requirement already satisfied: tzlocal>=1.2 in /home/cdsw/.local/lib/python3.10/site-packages (from great_expectations) (5.2)\n",
      "Requirement already satisfied: urllib3>=1.26 in /usr/local/lib/python3.10/site-packages (from great_expectations) (1.26.18)\n",
      "Requirement already satisfied: numpy<2.0.0,>=1.22.4 in /usr/local/lib/python3.10/site-packages (from great_expectations) (1.25.2)\n",
      "Requirement already satisfied: pandas>=1.3.0 in /usr/local/lib/python3.10/site-packages (from great_expectations) (2.1.4)\n",
      "Requirement already satisfied: entrypoints in /usr/local/lib/python3.10/site-packages (from altair<5.0.0,>=4.2.1->great_expectations) (0.4)\n",
      "Requirement already satisfied: toolz in /home/cdsw/.local/lib/python3.10/site-packages (from altair<5.0.0,>=4.2.1->great_expectations) (0.12.1)\n",
      "Requirement already satisfied: cffi>=1.12 in /usr/local/lib/python3.10/site-packages (from cryptography>=3.2->great_expectations) (1.15.1)\n",
      "Requirement already satisfied: backcall in /usr/local/lib/python3.10/site-packages (from Ipython>=7.16.3->great_expectations) (0.2.0)\n",
      "Requirement already satisfied: decorator in /usr/local/lib/python3.10/site-packages (from Ipython>=7.16.3->great_expectations) (4.4.2)\n",
      "Requirement already satisfied: jedi>=0.16 in /usr/local/lib/python3.10/site-packages (from Ipython>=7.16.3->great_expectations) (0.18.2)\n",
      "Requirement already satisfied: matplotlib-inline in /usr/local/lib/python3.10/site-packages (from Ipython>=7.16.3->great_expectations) (0.1.3)\n",
      "Requirement already satisfied: pickleshare in /usr/local/lib/python3.10/site-packages (from Ipython>=7.16.3->great_expectations) (0.7.5)\n",
      "Requirement already satisfied: prompt-toolkit<3.1.0,>=3.0.30 in /usr/local/lib/python3.10/site-packages (from Ipython>=7.16.3->great_expectations) (3.0.38)\n",
      "Requirement already satisfied: pygments>=2.4.0 in /usr/local/lib/python3.10/site-packages (from Ipython>=7.16.3->great_expectations) (2.15.1)\n",
      "Requirement already satisfied: stack-data in /usr/local/lib/python3.10/site-packages (from Ipython>=7.16.3->great_expectations) (0.6.2)\n",
      "Requirement already satisfied: traitlets>=5 in /usr/local/lib/python3.10/site-packages (from Ipython>=7.16.3->great_expectations) (5.9.0)\n",
      "Requirement already satisfied: pexpect>4.3 in /usr/local/lib/python3.10/site-packages (from Ipython>=7.16.3->great_expectations) (4.8.0)\n",
      "Requirement already satisfied: comm>=0.1.3 in /usr/local/lib/python3.10/site-packages (from ipywidgets>=7.5.1->great_expectations) (0.1.3)\n",
      "Requirement already satisfied: widgetsnbextension~=4.0.10 in /home/cdsw/.local/lib/python3.10/site-packages (from ipywidgets>=7.5.1->great_expectations) (4.0.10)\n",
      "Requirement already satisfied: jupyterlab-widgets~=3.0.10 in /home/cdsw/.local/lib/python3.10/site-packages (from ipywidgets>=7.5.1->great_expectations) (3.0.10)\n",
      "Requirement already satisfied: MarkupSafe>=2.0 in /usr/local/lib/python3.10/site-packages (from jinja2>=2.10->great_expectations) (2.1.2)\n",
      "Requirement already satisfied: jsonpointer>=1.9 in /usr/local/lib/python3.10/site-packages (from jsonpatch>=1.22->great_expectations) (2.3)\n",
      "Requirement already satisfied: attrs>=17.4.0 in /usr/local/lib/python3.10/site-packages (from jsonschema>=2.5.1->great_expectations) (23.1.0)\n",
      "Requirement already satisfied: pyrsistent!=0.17.0,!=0.17.1,!=0.17.2,>=0.14.0 in /usr/local/lib/python3.10/site-packages (from jsonschema>=2.5.1->great_expectations) (0.19.3)\n",
      "Requirement already satisfied: fastjsonschema in /usr/local/lib/python3.10/site-packages (from nbformat>=5.0->great_expectations) (2.16.3)\n",
      "Requirement already satisfied: jupyter-core in /usr/local/lib/python3.10/site-packages (from nbformat>=5.0->great_expectations) (5.3.0)\n",
      "Requirement already satisfied: tornado>=6.1 in /usr/local/lib/python3.10/site-packages (from notebook>=6.4.10->great_expectations) (6.3.2)\n",
      "Requirement already satisfied: pyzmq>=17 in /usr/local/lib/python3.10/site-packages (from notebook>=6.4.10->great_expectations) (22.3.0)\n",
      "Requirement already satisfied: argon2-cffi in /usr/local/lib/python3.10/site-packages (from notebook>=6.4.10->great_expectations) (21.3.0)\n",
      "Requirement already satisfied: jupyter-client>=5.3.4 in /usr/local/lib/python3.10/site-packages (from notebook>=6.4.10->great_expectations) (7.2.2)\n",
      "Requirement already satisfied: ipython-genutils in /usr/local/lib/python3.10/site-packages (from notebook>=6.4.10->great_expectations) (0.2.0)\n",
      "Requirement already satisfied: nbconvert>=5 in /usr/local/lib/python3.10/site-packages (from notebook>=6.4.10->great_expectations) (7.2.9)\n",
      "Requirement already satisfied: nest-asyncio>=1.5 in /usr/local/lib/python3.10/site-packages (from notebook>=6.4.10->great_expectations) (1.5.5)\n",
      "Requirement already satisfied: ipykernel in /usr/local/lib/python3.10/site-packages (from notebook>=6.4.10->great_expectations) (6.22.0)\n",
      "Requirement already satisfied: Send2Trash>=1.8.0 in /usr/local/lib/python3.10/site-packages (from notebook>=6.4.10->great_expectations) (1.8.0)\n",
      "Requirement already satisfied: terminado>=0.8.3 in /usr/local/lib/python3.10/site-packages (from notebook>=6.4.10->great_expectations) (0.17.1)\n",
      "Requirement already satisfied: prometheus-client in /usr/local/lib/python3.10/site-packages (from notebook>=6.4.10->great_expectations) (0.16.0)\n",
      "Requirement already satisfied: nbclassic>=0.4.7 in /usr/local/lib/python3.10/site-packages (from notebook>=6.4.10->great_expectations) (0.5.3)\n",
      "Requirement already satisfied: tzdata>=2022.1 in /usr/local/lib/python3.10/site-packages (from pandas>=1.3.0->great_expectations) (2023.3)\n",
      "Requirement already satisfied: six>=1.5 in /usr/local/lib/python3.10/site-packages (from python-dateutil>=2.8.1->great_expectations) (1.16.0)\n",
      "Requirement already satisfied: charset-normalizer<4,>=2 in /usr/local/lib/python3.10/site-packages (from requests>=2.20->great_expectations) (3.1.0)\n",
      "Requirement already satisfied: idna<4,>=2.5 in /usr/local/lib/python3.10/site-packages (from requests>=2.20->great_expectations) (3.4)\n",
      "Requirement already satisfied: certifi>=2017.4.17 in /usr/local/lib/python3.10/site-packages (from requests>=2.20->great_expectations) (2023.7.22)\n",
      "Requirement already satisfied: pycparser in /usr/local/lib/python3.10/site-packages (from cffi>=1.12->cryptography>=3.2->great_expectations) (2.21)\n",
      "Requirement already satisfied: parso<0.9.0,>=0.8.0 in /usr/local/lib/python3.10/site-packages (from jedi>=0.16->Ipython>=7.16.3->great_expectations) (0.8.3)\n",
      "Requirement already satisfied: platformdirs>=2.5 in /usr/local/lib/python3.10/site-packages (from jupyter-core->nbformat>=5.0->great_expectations) (3.5.0)\n",
      "Requirement already satisfied: jupyter-server>=1.8 in /usr/local/lib/python3.10/site-packages (from nbclassic>=0.4.7->notebook>=6.4.10->great_expectations) (1.23.4)\n",
      "Requirement already satisfied: notebook-shim>=0.1.0 in /usr/local/lib/python3.10/site-packages (from nbclassic>=0.4.7->notebook>=6.4.10->great_expectations) (0.2.2)\n",
      "Requirement already satisfied: beautifulsoup4 in /usr/local/lib/python3.10/site-packages (from nbconvert>=5->notebook>=6.4.10->great_expectations) (4.11.2)\n",
      "Requirement already satisfied: bleach in /usr/local/lib/python3.10/site-packages (from nbconvert>=5->notebook>=6.4.10->great_expectations) (6.0.0)\n",
      "Requirement already satisfied: defusedxml in /usr/local/lib/python3.10/site-packages (from nbconvert>=5->notebook>=6.4.10->great_expectations) (0.7.1)\n",
      "Requirement already satisfied: jupyterlab-pygments in /usr/local/lib/python3.10/site-packages (from nbconvert>=5->notebook>=6.4.10->great_expectations) (0.2.2)\n",
      "Requirement already satisfied: nbclient>=0.5.0 in /usr/local/lib/python3.10/site-packages (from nbconvert>=5->notebook>=6.4.10->great_expectations) (0.6.3)\n",
      "Requirement already satisfied: pandocfilters>=1.4.1 in /usr/local/lib/python3.10/site-packages (from nbconvert>=5->notebook>=6.4.10->great_expectations) (1.5.0)\n",
      "Requirement already satisfied: tinycss2 in /usr/local/lib/python3.10/site-packages (from nbconvert>=5->notebook>=6.4.10->great_expectations) (1.2.1)\n",
      "Requirement already satisfied: ptyprocess>=0.5 in /usr/local/lib/python3.10/site-packages (from pexpect>4.3->Ipython>=7.16.3->great_expectations) (0.6.0)\n",
      "Requirement already satisfied: wcwidth in /usr/local/lib/python3.10/site-packages (from prompt-toolkit<3.1.0,>=3.0.30->Ipython>=7.16.3->great_expectations) (0.2.5)\n",
      "Requirement already satisfied: argon2-cffi-bindings in /usr/local/lib/python3.10/site-packages (from argon2-cffi->notebook>=6.4.10->great_expectations) (21.2.0)\n",
      "Requirement already satisfied: debugpy>=1.6.5 in /usr/local/lib/python3.10/site-packages (from ipykernel->notebook>=6.4.10->great_expectations) (1.6.7)\n",
      "Requirement already satisfied: psutil in /usr/local/lib/python3.10/site-packages (from ipykernel->notebook>=6.4.10->great_expectations) (5.9.5)\n",
      "Requirement already satisfied: executing>=1.2.0 in /usr/local/lib/python3.10/site-packages (from stack-data->Ipython>=7.16.3->great_expectations) (1.2.0)\n",
      "Requirement already satisfied: asttokens>=2.1.0 in /usr/local/lib/python3.10/site-packages (from stack-data->Ipython>=7.16.3->great_expectations) (2.2.1)\n",
      "Requirement already satisfied: pure-eval in /usr/local/lib/python3.10/site-packages (from stack-data->Ipython>=7.16.3->great_expectations) (0.2.2)\n",
      "Requirement already satisfied: anyio<4,>=3.1.0 in /usr/local/lib/python3.10/site-packages (from jupyter-server>=1.8->nbclassic>=0.4.7->notebook>=6.4.10->great_expectations) (3.6.2)\n",
      "Requirement already satisfied: websocket-client in /usr/local/lib/python3.10/site-packages (from jupyter-server>=1.8->nbclassic>=0.4.7->notebook>=6.4.10->great_expectations) (1.5.1)\n",
      "Requirement already satisfied: soupsieve>1.2 in /usr/local/lib/python3.10/site-packages (from beautifulsoup4->nbconvert>=5->notebook>=6.4.10->great_expectations) (2.4)\n",
      "Requirement already satisfied: webencodings in /usr/local/lib/python3.10/site-packages (from bleach->nbconvert>=5->notebook>=6.4.10->great_expectations) (0.5.1)\n",
      "Requirement already satisfied: sniffio>=1.1 in /usr/local/lib/python3.10/site-packages (from anyio<4,>=3.1.0->jupyter-server>=1.8->nbclassic>=0.4.7->notebook>=6.4.10->great_expectations) (1.3.0)\n"
     ]
    }
   ],
   "source": [
    "!pip install great_expectations"
   ]
  },
  {
   "cell_type": "markdown",
   "id": "1c963880-c55e-4228-8305-bdffd5885bc5",
   "metadata": {},
   "source": [
    "Needed imports in order to make everything works ok"
   ]
  },
  {
   "cell_type": "code",
   "execution_count": 18,
   "id": "bcd0bcd0-c484-4dd2-966b-08d1fb74f856",
   "metadata": {
    "tags": []
   },
   "outputs": [],
   "source": [
    "import great_expectations as gx\n",
    "import os \n",
    "import pandas as pd\n",
    "from datetime import datetime\n",
    "import json \n",
    "import cml.data_v1 as cmldata"
   ]
  },
  {
   "cell_type": "code",
   "execution_count": 19,
   "id": "066fa465-15f0-401c-abe5-2f2e8f6f971b",
   "metadata": {
    "tags": []
   },
   "outputs": [],
   "source": [
    "# This function get the result of the \"expectation\" (the GE test) and return a DF with the data.\n",
    "\n",
    "def process_output_to_table (output_json):\n",
    "    #data= json.loads(output_json)\n",
    "    # Extract relevant data\n",
    "    success = output_json[\"success\"]\n",
    "    test=output_json[\"expectation_config\"][\"expectation_type\"]\n",
    "    column_name = output_json[\"expectation_config\"][\"kwargs\"][\"column\"]\n",
    "    \n",
    "    element_count = output_json[\"result\"][\"element_count\"]\n",
    "    unexpected_count = output_json[\"result\"][\"unexpected_count\"]\n",
    "    unexpected_percent = output_json[\"result\"][\"unexpected_percent\"]\n",
    "    if unexpected_percent is None:\n",
    "        unexpected_percent =0.0\n",
    "\n",
    "        \n",
    "\n",
    "    # Create a DataFrame\n",
    "    df = pd.DataFrame({\n",
    "        \"success\": [success],\n",
    "        \"test\": [test],\n",
    "        \"expectation_config\": [output_json[\"expectation_config\"]],  # Store the entire dictionary\n",
    "        \"column_tested\": [column_name],\n",
    "        \"element_count\": [element_count],\n",
    "        \"unexpected_count\": [unexpected_count],\n",
    "        \"unexpected_percent\": [unexpected_percent],\n",
    "    })\n",
    "\n",
    "    return (df)\n"
   ]
  },
  {
   "cell_type": "markdown",
   "id": "789156ff-da91-4d22-9fe9-049101bd5d82",
   "metadata": {
    "tags": []
   },
   "source": [
    "## Get the source table values\n",
    "and store them in a df in orden to use GE from pandas (there is not a direct connection to impala yet)\n"
   ]
  },
  {
   "cell_type": "code",
   "execution_count": 22,
   "id": "ca1ad1a2-c42e-42d9-96dd-85f740abc128",
   "metadata": {
    "tags": []
   },
   "outputs": [
    {
     "name": "stdout",
     "output_type": "stream",
     "text": [
      "SELECT * FROM spain_gas_prices.bv_gasprices_locations_latest_prices_view_v1\n"
     ]
    }
   ],
   "source": [
    "CONNECTION_NAME = cloudera_data_virtual_warehouse\n",
    "conn = cmldata.get_connection(CONNECTION_NAME)\n",
    "\n",
    "## Sample Usage to get pandas data frame\n",
    "SQL_QUERY = \"SELECT * FROM \"+source_database+\".\"+source_table + limit \n",
    "print (SQL_QUERY)\n",
    "df = conn.get_pandas_dataframe(SQL_QUERY)\n",
    "# Closing the connection\n",
    "\n",
    "\n"
   ]
  },
  {
   "cell_type": "code",
   "execution_count": 23,
   "id": "49ad586d-176f-4a95-aaea-60da5a2d9a7a",
   "metadata": {
    "tags": []
   },
   "outputs": [
    {
     "data": {
      "text/plain": [
       "<impala.hiveserver2.HiveServer2Connection at 0x7feb959ff010>"
      ]
     },
     "execution_count": 23,
     "metadata": {},
     "output_type": "execute_result"
    }
   ],
   "source": [
    "conn.close()"
   ]
  },
  {
   "cell_type": "code",
   "execution_count": 24,
   "id": "9ab9dd26-30ba-4320-bca3-a4a0acf4df99",
   "metadata": {
    "tags": []
   },
   "outputs": [
    {
     "data": {
      "text/html": [
       "<div>\n",
       "<style scoped>\n",
       "    .dataframe tbody tr th:only-of-type {\n",
       "        vertical-align: middle;\n",
       "    }\n",
       "\n",
       "    .dataframe tbody tr th {\n",
       "        vertical-align: top;\n",
       "    }\n",
       "\n",
       "    .dataframe thead th {\n",
       "        text-align: right;\n",
       "    }\n",
       "</style>\n",
       "<table border=\"1\" class=\"dataframe\">\n",
       "  <thead>\n",
       "    <tr style=\"text-align: right;\">\n",
       "      <th></th>\n",
       "      <th>latitude</th>\n",
       "      <th>longitude</th>\n",
       "      <th>name</th>\n",
       "      <th>address</th>\n",
       "      <th>town</th>\n",
       "      <th>province</th>\n",
       "      <th>pricediesela</th>\n",
       "      <th>pricefuel95e10</th>\n",
       "      <th>pricefuel95e5</th>\n",
       "      <th>pricebiodiesel</th>\n",
       "      <th>...</th>\n",
       "      <th>pricecompressednaturalgas</th>\n",
       "      <th>priceliquefiednaturalgas</th>\n",
       "      <th>priceliquefiedpetroleumgases</th>\n",
       "      <th>pricedieselb</th>\n",
       "      <th>pricedieselpremium</th>\n",
       "      <th>pricefuel95e5premium</th>\n",
       "      <th>pricefuel98e10</th>\n",
       "      <th>pricefuel98e5</th>\n",
       "      <th>pricehydrogen</th>\n",
       "      <th>stations</th>\n",
       "    </tr>\n",
       "  </thead>\n",
       "  <tbody>\n",
       "    <tr>\n",
       "      <th>0</th>\n",
       "      <td>41.200417</td>\n",
       "      <td>-6.582694</td>\n",
       "      <td>REPSOL                                        ...</td>\n",
       "      <td>CARRETERA SA-314 KM.                          ...</td>\n",
       "      <td>Masueco                                       ...</td>\n",
       "      <td>SALAMANCA                                     ...</td>\n",
       "      <td>1.569</td>\n",
       "      <td>NaN</td>\n",
       "      <td>1.699</td>\n",
       "      <td>NaN</td>\n",
       "      <td>...</td>\n",
       "      <td>NaN</td>\n",
       "      <td>NaN</td>\n",
       "      <td>NaN</td>\n",
       "      <td>1.309</td>\n",
       "      <td>1.679</td>\n",
       "      <td>NaN</td>\n",
       "      <td>NaN</td>\n",
       "      <td>NaN</td>\n",
       "      <td>None</td>\n",
       "      <td>1</td>\n",
       "    </tr>\n",
       "    <tr>\n",
       "      <th>1</th>\n",
       "      <td>36.663139</td>\n",
       "      <td>-4.753139</td>\n",
       "      <td>REPSOL                                        ...</td>\n",
       "      <td>AVDA. REINA SOFIA, S/N                        ...</td>\n",
       "      <td>Coín                                          ...</td>\n",
       "      <td>MÁLAGA                                        ...</td>\n",
       "      <td>1.558</td>\n",
       "      <td>NaN</td>\n",
       "      <td>1.728</td>\n",
       "      <td>NaN</td>\n",
       "      <td>...</td>\n",
       "      <td>NaN</td>\n",
       "      <td>NaN</td>\n",
       "      <td>NaN</td>\n",
       "      <td>1.318</td>\n",
       "      <td>1.678</td>\n",
       "      <td>NaN</td>\n",
       "      <td>NaN</td>\n",
       "      <td>1.888</td>\n",
       "      <td>None</td>\n",
       "      <td>1</td>\n",
       "    </tr>\n",
       "    <tr>\n",
       "      <th>2</th>\n",
       "      <td>41.491667</td>\n",
       "      <td>2.185278</td>\n",
       "      <td>REPSOL                                        ...</td>\n",
       "      <td>CARRETERA N-152 KM. 11,9                      ...</td>\n",
       "      <td>Montcada i Reixac                             ...</td>\n",
       "      <td>BARCELONA                                     ...</td>\n",
       "      <td>1.619</td>\n",
       "      <td>NaN</td>\n",
       "      <td>1.799</td>\n",
       "      <td>NaN</td>\n",
       "      <td>...</td>\n",
       "      <td>NaN</td>\n",
       "      <td>NaN</td>\n",
       "      <td>0.989</td>\n",
       "      <td>NaN</td>\n",
       "      <td>1.709</td>\n",
       "      <td>NaN</td>\n",
       "      <td>NaN</td>\n",
       "      <td>1.949</td>\n",
       "      <td>None</td>\n",
       "      <td>1</td>\n",
       "    </tr>\n",
       "    <tr>\n",
       "      <th>3</th>\n",
       "      <td>36.609806</td>\n",
       "      <td>-6.278444</td>\n",
       "      <td>SP                                            ...</td>\n",
       "      <td>CARRETERA CR CA-603 KM. 4,350                 ...</td>\n",
       "      <td>Puerto de Santa María (El)                    ...</td>\n",
       "      <td>CÁDIZ                                         ...</td>\n",
       "      <td>1.529</td>\n",
       "      <td>NaN</td>\n",
       "      <td>1.689</td>\n",
       "      <td>NaN</td>\n",
       "      <td>...</td>\n",
       "      <td>NaN</td>\n",
       "      <td>NaN</td>\n",
       "      <td>NaN</td>\n",
       "      <td>NaN</td>\n",
       "      <td>1.629</td>\n",
       "      <td>NaN</td>\n",
       "      <td>NaN</td>\n",
       "      <td>NaN</td>\n",
       "      <td>None</td>\n",
       "      <td>1</td>\n",
       "    </tr>\n",
       "    <tr>\n",
       "      <th>4</th>\n",
       "      <td>40.119250</td>\n",
       "      <td>-3.933611</td>\n",
       "      <td>CEPSA                                         ...</td>\n",
       "      <td>CARRETERA CM-4004 KM. 17,50                   ...</td>\n",
       "      <td>Cedillo del Condado                           ...</td>\n",
       "      <td>TOLEDO                                        ...</td>\n",
       "      <td>1.529</td>\n",
       "      <td>NaN</td>\n",
       "      <td>1.689</td>\n",
       "      <td>NaN</td>\n",
       "      <td>...</td>\n",
       "      <td>NaN</td>\n",
       "      <td>NaN</td>\n",
       "      <td>NaN</td>\n",
       "      <td>1.255</td>\n",
       "      <td>1.595</td>\n",
       "      <td>1.749</td>\n",
       "      <td>NaN</td>\n",
       "      <td>1.821</td>\n",
       "      <td>None</td>\n",
       "      <td>1</td>\n",
       "    </tr>\n",
       "    <tr>\n",
       "      <th>...</th>\n",
       "      <td>...</td>\n",
       "      <td>...</td>\n",
       "      <td>...</td>\n",
       "      <td>...</td>\n",
       "      <td>...</td>\n",
       "      <td>...</td>\n",
       "      <td>...</td>\n",
       "      <td>...</td>\n",
       "      <td>...</td>\n",
       "      <td>...</td>\n",
       "      <td>...</td>\n",
       "      <td>...</td>\n",
       "      <td>...</td>\n",
       "      <td>...</td>\n",
       "      <td>...</td>\n",
       "      <td>...</td>\n",
       "      <td>...</td>\n",
       "      <td>...</td>\n",
       "      <td>...</td>\n",
       "      <td>...</td>\n",
       "      <td>...</td>\n",
       "    </tr>\n",
       "    <tr>\n",
       "      <th>11922</th>\n",
       "      <td>36.922528</td>\n",
       "      <td>-4.280500</td>\n",
       "      <td>AGRO-OLIVARERA RIOGORDO                       ...</td>\n",
       "      <td>PARAJE EL CAMPILLO, S/N                       ...</td>\n",
       "      <td>Riogordo                                      ...</td>\n",
       "      <td>MÁLAGA                                        ...</td>\n",
       "      <td>1.365</td>\n",
       "      <td>NaN</td>\n",
       "      <td>1.566</td>\n",
       "      <td>NaN</td>\n",
       "      <td>...</td>\n",
       "      <td>NaN</td>\n",
       "      <td>NaN</td>\n",
       "      <td>NaN</td>\n",
       "      <td>0.959</td>\n",
       "      <td>NaN</td>\n",
       "      <td>NaN</td>\n",
       "      <td>NaN</td>\n",
       "      <td>NaN</td>\n",
       "      <td>None</td>\n",
       "      <td>1</td>\n",
       "    </tr>\n",
       "    <tr>\n",
       "      <th>11923</th>\n",
       "      <td>40.536861</td>\n",
       "      <td>-3.615222</td>\n",
       "      <td>GALP                                          ...</td>\n",
       "      <td>AVENIDA FERNANDO ALONSO, 7                    ...</td>\n",
       "      <td>Alcobendas                                    ...</td>\n",
       "      <td>MADRID                                        ...</td>\n",
       "      <td>1.484</td>\n",
       "      <td>NaN</td>\n",
       "      <td>1.674</td>\n",
       "      <td>NaN</td>\n",
       "      <td>...</td>\n",
       "      <td>NaN</td>\n",
       "      <td>NaN</td>\n",
       "      <td>0.999</td>\n",
       "      <td>NaN</td>\n",
       "      <td>1.554</td>\n",
       "      <td>NaN</td>\n",
       "      <td>NaN</td>\n",
       "      <td>1.824</td>\n",
       "      <td>None</td>\n",
       "      <td>1</td>\n",
       "    </tr>\n",
       "    <tr>\n",
       "      <th>11924</th>\n",
       "      <td>37.032833</td>\n",
       "      <td>-4.530917</td>\n",
       "      <td>GAFISUR ANTEQUERA                             ...</td>\n",
       "      <td>CALLE ACLARADORES LOS, 10                     ...</td>\n",
       "      <td>Antequera                                     ...</td>\n",
       "      <td>MÁLAGA                                        ...</td>\n",
       "      <td>1.389</td>\n",
       "      <td>NaN</td>\n",
       "      <td>1.529</td>\n",
       "      <td>NaN</td>\n",
       "      <td>...</td>\n",
       "      <td>NaN</td>\n",
       "      <td>NaN</td>\n",
       "      <td>NaN</td>\n",
       "      <td>NaN</td>\n",
       "      <td>NaN</td>\n",
       "      <td>NaN</td>\n",
       "      <td>NaN</td>\n",
       "      <td>NaN</td>\n",
       "      <td>None</td>\n",
       "      <td>1</td>\n",
       "    </tr>\n",
       "    <tr>\n",
       "      <th>11925</th>\n",
       "      <td>28.867833</td>\n",
       "      <td>-13.831611</td>\n",
       "      <td>ESTACION PLAYA BLANCA                         ...</td>\n",
       "      <td>CARRETERA ARRECIFE-PLAYA BLANCA KM. 34        ...</td>\n",
       "      <td>Yaiza                                         ...</td>\n",
       "      <td>PALMAS (LAS)                                  ...</td>\n",
       "      <td>1.339</td>\n",
       "      <td>NaN</td>\n",
       "      <td>1.379</td>\n",
       "      <td>NaN</td>\n",
       "      <td>...</td>\n",
       "      <td>NaN</td>\n",
       "      <td>NaN</td>\n",
       "      <td>NaN</td>\n",
       "      <td>NaN</td>\n",
       "      <td>NaN</td>\n",
       "      <td>NaN</td>\n",
       "      <td>NaN</td>\n",
       "      <td>1.499</td>\n",
       "      <td>None</td>\n",
       "      <td>1</td>\n",
       "    </tr>\n",
       "    <tr>\n",
       "      <th>11926</th>\n",
       "      <td>39.070278</td>\n",
       "      <td>1.496222</td>\n",
       "      <td>REPSOL                                        ...</td>\n",
       "      <td>CARRETERA C-733 KM. 19,700                    ...</td>\n",
       "      <td>Sant Joan de Labritja                         ...</td>\n",
       "      <td>BALEARS (ILLES)                               ...</td>\n",
       "      <td>1.609</td>\n",
       "      <td>NaN</td>\n",
       "      <td>1.769</td>\n",
       "      <td>NaN</td>\n",
       "      <td>...</td>\n",
       "      <td>NaN</td>\n",
       "      <td>NaN</td>\n",
       "      <td>NaN</td>\n",
       "      <td>1.309</td>\n",
       "      <td>NaN</td>\n",
       "      <td>NaN</td>\n",
       "      <td>NaN</td>\n",
       "      <td>1.909</td>\n",
       "      <td>None</td>\n",
       "      <td>1</td>\n",
       "    </tr>\n",
       "  </tbody>\n",
       "</table>\n",
       "<p>11927 rows × 21 columns</p>\n",
       "</div>"
      ],
      "text/plain": [
       "        latitude  longitude  \\\n",
       "0      41.200417  -6.582694   \n",
       "1      36.663139  -4.753139   \n",
       "2      41.491667   2.185278   \n",
       "3      36.609806  -6.278444   \n",
       "4      40.119250  -3.933611   \n",
       "...          ...        ...   \n",
       "11922  36.922528  -4.280500   \n",
       "11923  40.536861  -3.615222   \n",
       "11924  37.032833  -4.530917   \n",
       "11925  28.867833 -13.831611   \n",
       "11926  39.070278   1.496222   \n",
       "\n",
       "                                                    name  \\\n",
       "0      REPSOL                                        ...   \n",
       "1      REPSOL                                        ...   \n",
       "2      REPSOL                                        ...   \n",
       "3      SP                                            ...   \n",
       "4      CEPSA                                         ...   \n",
       "...                                                  ...   \n",
       "11922  AGRO-OLIVARERA RIOGORDO                       ...   \n",
       "11923  GALP                                          ...   \n",
       "11924  GAFISUR ANTEQUERA                             ...   \n",
       "11925  ESTACION PLAYA BLANCA                         ...   \n",
       "11926  REPSOL                                        ...   \n",
       "\n",
       "                                                 address  \\\n",
       "0      CARRETERA SA-314 KM.                          ...   \n",
       "1      AVDA. REINA SOFIA, S/N                        ...   \n",
       "2      CARRETERA N-152 KM. 11,9                      ...   \n",
       "3      CARRETERA CR CA-603 KM. 4,350                 ...   \n",
       "4      CARRETERA CM-4004 KM. 17,50                   ...   \n",
       "...                                                  ...   \n",
       "11922  PARAJE EL CAMPILLO, S/N                       ...   \n",
       "11923  AVENIDA FERNANDO ALONSO, 7                    ...   \n",
       "11924  CALLE ACLARADORES LOS, 10                     ...   \n",
       "11925  CARRETERA ARRECIFE-PLAYA BLANCA KM. 34        ...   \n",
       "11926  CARRETERA C-733 KM. 19,700                    ...   \n",
       "\n",
       "                                                    town  \\\n",
       "0      Masueco                                       ...   \n",
       "1      Coín                                          ...   \n",
       "2      Montcada i Reixac                             ...   \n",
       "3      Puerto de Santa María (El)                    ...   \n",
       "4      Cedillo del Condado                           ...   \n",
       "...                                                  ...   \n",
       "11922  Riogordo                                      ...   \n",
       "11923  Alcobendas                                    ...   \n",
       "11924  Antequera                                     ...   \n",
       "11925  Yaiza                                         ...   \n",
       "11926  Sant Joan de Labritja                         ...   \n",
       "\n",
       "                                                province  pricediesela  \\\n",
       "0      SALAMANCA                                     ...         1.569   \n",
       "1      MÁLAGA                                        ...         1.558   \n",
       "2      BARCELONA                                     ...         1.619   \n",
       "3      CÁDIZ                                         ...         1.529   \n",
       "4      TOLEDO                                        ...         1.529   \n",
       "...                                                  ...           ...   \n",
       "11922  MÁLAGA                                        ...         1.365   \n",
       "11923  MADRID                                        ...         1.484   \n",
       "11924  MÁLAGA                                        ...         1.389   \n",
       "11925  PALMAS (LAS)                                  ...         1.339   \n",
       "11926  BALEARS (ILLES)                               ...         1.609   \n",
       "\n",
       "       pricefuel95e10  pricefuel95e5  pricebiodiesel  ...  \\\n",
       "0                 NaN          1.699             NaN  ...   \n",
       "1                 NaN          1.728             NaN  ...   \n",
       "2                 NaN          1.799             NaN  ...   \n",
       "3                 NaN          1.689             NaN  ...   \n",
       "4                 NaN          1.689             NaN  ...   \n",
       "...               ...            ...             ...  ...   \n",
       "11922             NaN          1.566             NaN  ...   \n",
       "11923             NaN          1.674             NaN  ...   \n",
       "11924             NaN          1.529             NaN  ...   \n",
       "11925             NaN          1.379             NaN  ...   \n",
       "11926             NaN          1.769             NaN  ...   \n",
       "\n",
       "       pricecompressednaturalgas  priceliquefiednaturalgas  \\\n",
       "0                            NaN                       NaN   \n",
       "1                            NaN                       NaN   \n",
       "2                            NaN                       NaN   \n",
       "3                            NaN                       NaN   \n",
       "4                            NaN                       NaN   \n",
       "...                          ...                       ...   \n",
       "11922                        NaN                       NaN   \n",
       "11923                        NaN                       NaN   \n",
       "11924                        NaN                       NaN   \n",
       "11925                        NaN                       NaN   \n",
       "11926                        NaN                       NaN   \n",
       "\n",
       "       priceliquefiedpetroleumgases  pricedieselb  pricedieselpremium  \\\n",
       "0                               NaN         1.309               1.679   \n",
       "1                               NaN         1.318               1.678   \n",
       "2                             0.989           NaN               1.709   \n",
       "3                               NaN           NaN               1.629   \n",
       "4                               NaN         1.255               1.595   \n",
       "...                             ...           ...                 ...   \n",
       "11922                           NaN         0.959                 NaN   \n",
       "11923                         0.999           NaN               1.554   \n",
       "11924                           NaN           NaN                 NaN   \n",
       "11925                           NaN           NaN                 NaN   \n",
       "11926                           NaN         1.309                 NaN   \n",
       "\n",
       "       pricefuel95e5premium  pricefuel98e10  pricefuel98e5  pricehydrogen  \\\n",
       "0                       NaN             NaN            NaN           None   \n",
       "1                       NaN             NaN          1.888           None   \n",
       "2                       NaN             NaN          1.949           None   \n",
       "3                       NaN             NaN            NaN           None   \n",
       "4                     1.749             NaN          1.821           None   \n",
       "...                     ...             ...            ...            ...   \n",
       "11922                   NaN             NaN            NaN           None   \n",
       "11923                   NaN             NaN          1.824           None   \n",
       "11924                   NaN             NaN            NaN           None   \n",
       "11925                   NaN             NaN          1.499           None   \n",
       "11926                   NaN             NaN          1.909           None   \n",
       "\n",
       "      stations  \n",
       "0            1  \n",
       "1            1  \n",
       "2            1  \n",
       "3            1  \n",
       "4            1  \n",
       "...        ...  \n",
       "11922        1  \n",
       "11923        1  \n",
       "11924        1  \n",
       "11925        1  \n",
       "11926        1  \n",
       "\n",
       "[11927 rows x 21 columns]"
      ]
     },
     "execution_count": 24,
     "metadata": {},
     "output_type": "execute_result"
    }
   ],
   "source": [
    "df #As we are in a Notebook, just calling the df will pretty print it :-)"
   ]
  },
  {
   "cell_type": "markdown",
   "id": "d1d269b3-3f40-4365-bb4c-0381a2970fa9",
   "metadata": {},
   "source": [
    "## Great Expectation context\n",
    "In order to user the GE calls, we first need to hava a context\n",
    "https://docs.greatexpectations.io/docs/oss/tutorials/quickstart/\n",
    "\n",
    "\"A Data Context is the primary entry point for a Great Expectations (GX) deployment, and it provides the configurations and methods for all supporting GX components.\n",
    "\n",
    "As the primary entry point for the GX API, the Data Context provides a convenient method for accessing common objects based on untyped input or common defaults. A Data Context also allows you to configure top-level components, and you can use different storage methodologies to back up your Data Context configuration. After you instantiate your DataContext and store its configurations, it always behaves the same way.\"\n"
   ]
  },
  {
   "cell_type": "code",
   "execution_count": 25,
   "id": "28dbf8f0-9ec7-4ea8-8a70-2200f580778d",
   "metadata": {
    "tags": []
   },
   "outputs": [],
   "source": [
    "#We generate a GE context to evaluate the data.\n",
    "context = gx.get_context()\n",
    "\n",
    "\n"
   ]
  },
  {
   "cell_type": "markdown",
   "id": "6bb6b361-8633-43b1-af7c-fea21c206d09",
   "metadata": {},
   "source": [
    "## GE DataSource\n",
    "Is the way to connect to the data, and the data is called the data asset.\n",
    "\n",
    "https://docs.greatexpectations.io/docs/oss/tutorials/quickstart/\n",
    "\n",
    "https://docs.greatexpectations.io/docs/reference/learn/terms/datasource/\n",
    "\n",
    "\"A Data Source provides a standard API for accessing and interacting with data from a wide variety of source systems.\n",
    "\n",
    "Data Sources provide a standard API across multiple backends: the Data Source API remains the same for PostgreSQL, CSV Filesystems, and all other supported data backends.\""
   ]
  },
  {
   "cell_type": "code",
   "execution_count": 26,
   "id": "2b400080-d225-41cc-a22b-d76a2db5ab5a",
   "metadata": {
    "tags": []
   },
   "outputs": [],
   "source": [
    "# 1º THE DATA SOURCE\n",
    "#We add a data source (to host our data frame)\n",
    "datasource= context.sources.add_pandas(name=\"pandas_data_source\")\n",
    "#print (context)"
   ]
  },
  {
   "cell_type": "code",
   "execution_count": 27,
   "id": "a52cec14-e615-417f-98ea-704cc6843843",
   "metadata": {
    "tags": []
   },
   "outputs": [],
   "source": [
    "# 2º THE DATA ASSET \n",
    "#assign the name of the data asset and asign it to the data source, and load the df to the asset.\n",
    "name=\"bv_gasprices_locations_lastday_dataframe\"\n",
    "data_asset = datasource.add_dataframe_asset(name=name)\n",
    "my_batch_request = data_asset.build_batch_request(dataframe=df) #here we add the df to the \"batch\"\n",
    "\n",
    "\n"
   ]
  },
  {
   "cell_type": "markdown",
   "id": "df0cb486-67e6-4653-8d22-02643b7d4d1c",
   "metadata": {},
   "source": [
    "## GE Batch and validators attached.\n",
    "The Batch is a way to add test to it, and the tests are called validations. That validations are formed with \"expectations\" (what to expect of the data)\n",
    "\n",
    "https://docs.greatexpectations.io/docs/oss/guides/validation/validate_data_overview\n",
    "\n",
    "\"Batch Requests are used to specify the data that a Checkpoint Validates. You can add additional validation data to your Checkpoint by assigning it Batch Requests, or specifying that a Batch Request is required at run time.\n",
    "\n",
    "Expectation Suites contain the Expectations that the Checkpoint runs against the validation data specified in its Batch Requests. Checkpoints are assigned Expectation Suites and Batch Requests in pairs, and when the Checkpoint is run it will Validate each of its Expectation Suites against the data provided by its paired Batch Request.\n",
    "\n",
    "For more information on adding Batch Requests and Expectation Suites to a Checkpoint, see How to add validations data or suites to a Checkpoint.\"\n"
   ]
  },
  {
   "cell_type": "code",
   "execution_count": 28,
   "id": "c6227560-5a7a-41ba-9e04-119d106bc90c",
   "metadata": {
    "tags": []
   },
   "outputs": [
    {
     "data": {
      "application/vnd.jupyter.widget-view+json": {
       "model_id": "16347c79191748e0b0dfd6274ae8dbd6",
       "version_major": 2,
       "version_minor": 0
      },
      "text/plain": [
       "Calculating Metrics:   0%|          | 0/1 [00:00<?, ?it/s]"
      ]
     },
     "metadata": {},
     "output_type": "display_data"
    },
    {
     "data": {
      "text/html": [
       "<div>\n",
       "<style scoped>\n",
       "    .dataframe tbody tr th:only-of-type {\n",
       "        vertical-align: middle;\n",
       "    }\n",
       "\n",
       "    .dataframe tbody tr th {\n",
       "        vertical-align: top;\n",
       "    }\n",
       "\n",
       "    .dataframe thead th {\n",
       "        text-align: right;\n",
       "    }\n",
       "</style>\n",
       "<table border=\"1\" class=\"dataframe\">\n",
       "  <thead>\n",
       "    <tr style=\"text-align: right;\">\n",
       "      <th></th>\n",
       "      <th>latitude</th>\n",
       "      <th>longitude</th>\n",
       "      <th>name</th>\n",
       "      <th>address</th>\n",
       "      <th>town</th>\n",
       "      <th>province</th>\n",
       "      <th>pricediesela</th>\n",
       "      <th>pricefuel95e10</th>\n",
       "      <th>pricefuel95e5</th>\n",
       "      <th>pricebiodiesel</th>\n",
       "      <th>...</th>\n",
       "      <th>pricecompressednaturalgas</th>\n",
       "      <th>priceliquefiednaturalgas</th>\n",
       "      <th>priceliquefiedpetroleumgases</th>\n",
       "      <th>pricedieselb</th>\n",
       "      <th>pricedieselpremium</th>\n",
       "      <th>pricefuel95e5premium</th>\n",
       "      <th>pricefuel98e10</th>\n",
       "      <th>pricefuel98e5</th>\n",
       "      <th>pricehydrogen</th>\n",
       "      <th>stations</th>\n",
       "    </tr>\n",
       "  </thead>\n",
       "  <tbody>\n",
       "    <tr>\n",
       "      <th>0</th>\n",
       "      <td>41.200417</td>\n",
       "      <td>-6.582694</td>\n",
       "      <td>REPSOL                                        ...</td>\n",
       "      <td>CARRETERA SA-314 KM.                          ...</td>\n",
       "      <td>Masueco                                       ...</td>\n",
       "      <td>SALAMANCA                                     ...</td>\n",
       "      <td>1.569</td>\n",
       "      <td>NaN</td>\n",
       "      <td>1.699</td>\n",
       "      <td>NaN</td>\n",
       "      <td>...</td>\n",
       "      <td>NaN</td>\n",
       "      <td>NaN</td>\n",
       "      <td>NaN</td>\n",
       "      <td>1.309</td>\n",
       "      <td>1.679</td>\n",
       "      <td>NaN</td>\n",
       "      <td>NaN</td>\n",
       "      <td>NaN</td>\n",
       "      <td>None</td>\n",
       "      <td>1</td>\n",
       "    </tr>\n",
       "    <tr>\n",
       "      <th>1</th>\n",
       "      <td>36.663139</td>\n",
       "      <td>-4.753139</td>\n",
       "      <td>REPSOL                                        ...</td>\n",
       "      <td>AVDA. REINA SOFIA, S/N                        ...</td>\n",
       "      <td>Coín                                          ...</td>\n",
       "      <td>MÁLAGA                                        ...</td>\n",
       "      <td>1.558</td>\n",
       "      <td>NaN</td>\n",
       "      <td>1.728</td>\n",
       "      <td>NaN</td>\n",
       "      <td>...</td>\n",
       "      <td>NaN</td>\n",
       "      <td>NaN</td>\n",
       "      <td>NaN</td>\n",
       "      <td>1.318</td>\n",
       "      <td>1.678</td>\n",
       "      <td>NaN</td>\n",
       "      <td>NaN</td>\n",
       "      <td>1.888</td>\n",
       "      <td>None</td>\n",
       "      <td>1</td>\n",
       "    </tr>\n",
       "    <tr>\n",
       "      <th>2</th>\n",
       "      <td>41.491667</td>\n",
       "      <td>2.185278</td>\n",
       "      <td>REPSOL                                        ...</td>\n",
       "      <td>CARRETERA N-152 KM. 11,9                      ...</td>\n",
       "      <td>Montcada i Reixac                             ...</td>\n",
       "      <td>BARCELONA                                     ...</td>\n",
       "      <td>1.619</td>\n",
       "      <td>NaN</td>\n",
       "      <td>1.799</td>\n",
       "      <td>NaN</td>\n",
       "      <td>...</td>\n",
       "      <td>NaN</td>\n",
       "      <td>NaN</td>\n",
       "      <td>0.989</td>\n",
       "      <td>NaN</td>\n",
       "      <td>1.709</td>\n",
       "      <td>NaN</td>\n",
       "      <td>NaN</td>\n",
       "      <td>1.949</td>\n",
       "      <td>None</td>\n",
       "      <td>1</td>\n",
       "    </tr>\n",
       "    <tr>\n",
       "      <th>3</th>\n",
       "      <td>36.609806</td>\n",
       "      <td>-6.278444</td>\n",
       "      <td>SP                                            ...</td>\n",
       "      <td>CARRETERA CR CA-603 KM. 4,350                 ...</td>\n",
       "      <td>Puerto de Santa María (El)                    ...</td>\n",
       "      <td>CÁDIZ                                         ...</td>\n",
       "      <td>1.529</td>\n",
       "      <td>NaN</td>\n",
       "      <td>1.689</td>\n",
       "      <td>NaN</td>\n",
       "      <td>...</td>\n",
       "      <td>NaN</td>\n",
       "      <td>NaN</td>\n",
       "      <td>NaN</td>\n",
       "      <td>NaN</td>\n",
       "      <td>1.629</td>\n",
       "      <td>NaN</td>\n",
       "      <td>NaN</td>\n",
       "      <td>NaN</td>\n",
       "      <td>None</td>\n",
       "      <td>1</td>\n",
       "    </tr>\n",
       "    <tr>\n",
       "      <th>4</th>\n",
       "      <td>40.119250</td>\n",
       "      <td>-3.933611</td>\n",
       "      <td>CEPSA                                         ...</td>\n",
       "      <td>CARRETERA CM-4004 KM. 17,50                   ...</td>\n",
       "      <td>Cedillo del Condado                           ...</td>\n",
       "      <td>TOLEDO                                        ...</td>\n",
       "      <td>1.529</td>\n",
       "      <td>NaN</td>\n",
       "      <td>1.689</td>\n",
       "      <td>NaN</td>\n",
       "      <td>...</td>\n",
       "      <td>NaN</td>\n",
       "      <td>NaN</td>\n",
       "      <td>NaN</td>\n",
       "      <td>1.255</td>\n",
       "      <td>1.595</td>\n",
       "      <td>1.749</td>\n",
       "      <td>NaN</td>\n",
       "      <td>1.821</td>\n",
       "      <td>None</td>\n",
       "      <td>1</td>\n",
       "    </tr>\n",
       "  </tbody>\n",
       "</table>\n",
       "<p>5 rows × 21 columns</p>\n",
       "</div>"
      ],
      "text/plain": [
       "    latitude  longitude                                               name  \\\n",
       "0  41.200417  -6.582694  REPSOL                                        ...   \n",
       "1  36.663139  -4.753139  REPSOL                                        ...   \n",
       "2  41.491667   2.185278  REPSOL                                        ...   \n",
       "3  36.609806  -6.278444  SP                                            ...   \n",
       "4  40.119250  -3.933611  CEPSA                                         ...   \n",
       "\n",
       "                                             address  \\\n",
       "0  CARRETERA SA-314 KM.                          ...   \n",
       "1  AVDA. REINA SOFIA, S/N                        ...   \n",
       "2  CARRETERA N-152 KM. 11,9                      ...   \n",
       "3  CARRETERA CR CA-603 KM. 4,350                 ...   \n",
       "4  CARRETERA CM-4004 KM. 17,50                   ...   \n",
       "\n",
       "                                                town  \\\n",
       "0  Masueco                                       ...   \n",
       "1  Coín                                          ...   \n",
       "2  Montcada i Reixac                             ...   \n",
       "3  Puerto de Santa María (El)                    ...   \n",
       "4  Cedillo del Condado                           ...   \n",
       "\n",
       "                                            province  pricediesela  \\\n",
       "0  SALAMANCA                                     ...         1.569   \n",
       "1  MÁLAGA                                        ...         1.558   \n",
       "2  BARCELONA                                     ...         1.619   \n",
       "3  CÁDIZ                                         ...         1.529   \n",
       "4  TOLEDO                                        ...         1.529   \n",
       "\n",
       "   pricefuel95e10  pricefuel95e5  pricebiodiesel  ...  \\\n",
       "0             NaN          1.699             NaN  ...   \n",
       "1             NaN          1.728             NaN  ...   \n",
       "2             NaN          1.799             NaN  ...   \n",
       "3             NaN          1.689             NaN  ...   \n",
       "4             NaN          1.689             NaN  ...   \n",
       "\n",
       "   pricecompressednaturalgas  priceliquefiednaturalgas  \\\n",
       "0                        NaN                       NaN   \n",
       "1                        NaN                       NaN   \n",
       "2                        NaN                       NaN   \n",
       "3                        NaN                       NaN   \n",
       "4                        NaN                       NaN   \n",
       "\n",
       "   priceliquefiedpetroleumgases  pricedieselb  pricedieselpremium  \\\n",
       "0                           NaN         1.309               1.679   \n",
       "1                           NaN         1.318               1.678   \n",
       "2                         0.989           NaN               1.709   \n",
       "3                           NaN           NaN               1.629   \n",
       "4                           NaN         1.255               1.595   \n",
       "\n",
       "   pricefuel95e5premium  pricefuel98e10  pricefuel98e5  pricehydrogen stations  \n",
       "0                   NaN             NaN            NaN           None        1  \n",
       "1                   NaN             NaN          1.888           None        1  \n",
       "2                   NaN             NaN          1.949           None        1  \n",
       "3                   NaN             NaN            NaN           None        1  \n",
       "4                 1.749             NaN          1.821           None        1  \n",
       "\n",
       "[5 rows x 21 columns]"
      ]
     },
     "execution_count": 28,
     "metadata": {},
     "output_type": "execute_result"
    }
   ],
   "source": [
    "# 3 USE THE BATCH AN CREATE A VALIDATOR TO BEGIN ANALYZING Expectations RULES.\n",
    "# Define expectations in a separate file or directly on the validator (modify as needed)\n",
    "\n",
    "context.add_or_update_expectation_suite(\"gas_stations_expectation_suite\")\n",
    "# Optional. Run assert \"my_expectation_suite\" in context.list_expectation_suite_names() to veriify the Expectation Suite was created.\n",
    "validator = context.get_validator(\n",
    "    batch_request=my_batch_request,\n",
    "    expectation_suite_name=\"gas_stations_expectation_suite\",\n",
    ")\n",
    "validator.head()"
   ]
  },
  {
   "cell_type": "markdown",
   "id": "2983bdbe-8fb7-4b10-ad13-457dd61460fa",
   "metadata": {},
   "source": [
    "## GE Expectations \n",
    "In order to do it simple, we reun some validator expectations and parse the output in order to save it in a df, to do later the insert of all of that results to the quality table results.\n"
   ]
  },
  {
   "cell_type": "code",
   "execution_count": 29,
   "id": "5dd51bca-de07-4b75-a344-e7bc8575d47e",
   "metadata": {
    "tags": []
   },
   "outputs": [],
   "source": [
    "## Add expectation to expectation suite\n"
   ]
  },
  {
   "cell_type": "code",
   "execution_count": 30,
   "id": "df4e5edf-0037-41cf-825d-b70a0daa7db3",
   "metadata": {
    "tags": []
   },
   "outputs": [
    {
     "data": {
      "application/vnd.jupyter.widget-view+json": {
       "model_id": "d13d29f168734090ab3c4f526d4d7ec8",
       "version_major": 2,
       "version_minor": 0
      },
      "text/plain": [
       "Calculating Metrics:   0%|          | 0/6 [00:00<?, ?it/s]"
      ]
     },
     "metadata": {},
     "output_type": "display_data"
    },
    {
     "data": {
      "application/vnd.jupyter.widget-view+json": {
       "model_id": "2302bf180168467f862f294aa264811c",
       "version_major": 2,
       "version_minor": 0
      },
      "text/plain": [
       "Calculating Metrics:   0%|          | 0/6 [00:00<?, ?it/s]"
      ]
     },
     "metadata": {},
     "output_type": "display_data"
    },
    {
     "data": {
      "application/vnd.jupyter.widget-view+json": {
       "model_id": "821d95ac12dc49d697779fa8b31f6d2d",
       "version_major": 2,
       "version_minor": 0
      },
      "text/plain": [
       "Calculating Metrics:   0%|          | 0/6 [00:00<?, ?it/s]"
      ]
     },
     "metadata": {},
     "output_type": "display_data"
    },
    {
     "data": {
      "application/vnd.jupyter.widget-view+json": {
       "model_id": "7d5366d04dc94a12a2f843b2164bc609",
       "version_major": 2,
       "version_minor": 0
      },
      "text/plain": [
       "Calculating Metrics:   0%|          | 0/6 [00:00<?, ?it/s]"
      ]
     },
     "metadata": {},
     "output_type": "display_data"
    },
    {
     "data": {
      "application/vnd.jupyter.widget-view+json": {
       "model_id": "b7652858a57f42fbb7a037ad59f90318",
       "version_major": 2,
       "version_minor": 0
      },
      "text/plain": [
       "Calculating Metrics:   0%|          | 0/6 [00:00<?, ?it/s]"
      ]
     },
     "metadata": {},
     "output_type": "display_data"
    },
    {
     "data": {
      "application/vnd.jupyter.widget-view+json": {
       "model_id": "41b62197acf7420c99483931964db7eb",
       "version_major": 2,
       "version_minor": 0
      },
      "text/plain": [
       "Calculating Metrics:   0%|          | 0/6 [00:00<?, ?it/s]"
      ]
     },
     "metadata": {},
     "output_type": "display_data"
    },
    {
     "data": {
      "application/vnd.jupyter.widget-view+json": {
       "model_id": "c31a0603117845519a8fa85bdabb3dc5",
       "version_major": 2,
       "version_minor": 0
      },
      "text/plain": [
       "Calculating Metrics:   0%|          | 0/6 [00:00<?, ?it/s]"
      ]
     },
     "metadata": {},
     "output_type": "display_data"
    },
    {
     "data": {
      "application/vnd.jupyter.widget-view+json": {
       "model_id": "2d5171fa663e4ec09118c0dfe6f77114",
       "version_major": 2,
       "version_minor": 0
      },
      "text/plain": [
       "Calculating Metrics:   0%|          | 0/8 [00:00<?, ?it/s]"
      ]
     },
     "metadata": {},
     "output_type": "display_data"
    },
    {
     "data": {
      "application/vnd.jupyter.widget-view+json": {
       "model_id": "e17c0daa515947e5b40d2a8a51609037",
       "version_major": 2,
       "version_minor": 0
      },
      "text/plain": [
       "Calculating Metrics:   0%|          | 0/8 [00:00<?, ?it/s]"
      ]
     },
     "metadata": {},
     "output_type": "display_data"
    },
    {
     "data": {
      "application/vnd.jupyter.widget-view+json": {
       "model_id": "cf97b938ab6444629fb23cd0421c2a2d",
       "version_major": 2,
       "version_minor": 0
      },
      "text/plain": [
       "Calculating Metrics:   0%|          | 0/8 [00:00<?, ?it/s]"
      ]
     },
     "metadata": {},
     "output_type": "display_data"
    },
    {
     "data": {
      "application/vnd.jupyter.widget-view+json": {
       "model_id": "3a54bf801166441e825b7454836ceb2f",
       "version_major": 2,
       "version_minor": 0
      },
      "text/plain": [
       "Calculating Metrics:   0%|          | 0/8 [00:00<?, ?it/s]"
      ]
     },
     "metadata": {},
     "output_type": "display_data"
    },
    {
     "data": {
      "application/vnd.jupyter.widget-view+json": {
       "model_id": "7fc960e3201246fd82758dedbc2e582a",
       "version_major": 2,
       "version_minor": 0
      },
      "text/plain": [
       "Calculating Metrics:   0%|          | 0/8 [00:00<?, ?it/s]"
      ]
     },
     "metadata": {},
     "output_type": "display_data"
    },
    {
     "data": {
      "application/vnd.jupyter.widget-view+json": {
       "model_id": "c16cd7fe4c9b46c785a021d2786d7b69",
       "version_major": 2,
       "version_minor": 0
      },
      "text/plain": [
       "Calculating Metrics:   0%|          | 0/8 [00:00<?, ?it/s]"
      ]
     },
     "metadata": {},
     "output_type": "display_data"
    },
    {
     "data": {
      "application/vnd.jupyter.widget-view+json": {
       "model_id": "39cc819849b64b659e5ede63f02e97d0",
       "version_major": 2,
       "version_minor": 0
      },
      "text/plain": [
       "Calculating Metrics:   0%|          | 0/8 [00:00<?, ?it/s]"
      ]
     },
     "metadata": {},
     "output_type": "display_data"
    },
    {
     "data": {
      "application/vnd.jupyter.widget-view+json": {
       "model_id": "cebd32912b8c4f36a4fc1ddd64d17b27",
       "version_major": 2,
       "version_minor": 0
      },
      "text/plain": [
       "Calculating Metrics:   0%|          | 0/8 [00:00<?, ?it/s]"
      ]
     },
     "metadata": {},
     "output_type": "display_data"
    },
    {
     "data": {
      "application/vnd.jupyter.widget-view+json": {
       "model_id": "fc8d0741cba045b9856c95b44e8767b1",
       "version_major": 2,
       "version_minor": 0
      },
      "text/plain": [
       "Calculating Metrics:   0%|          | 0/8 [00:00<?, ?it/s]"
      ]
     },
     "metadata": {},
     "output_type": "display_data"
    },
    {
     "data": {
      "application/vnd.jupyter.widget-view+json": {
       "model_id": "6e8c47ffa65440cca4f5588e3acc9008",
       "version_major": 2,
       "version_minor": 0
      },
      "text/plain": [
       "Calculating Metrics:   0%|          | 0/8 [00:00<?, ?it/s]"
      ]
     },
     "metadata": {},
     "output_type": "display_data"
    },
    {
     "data": {
      "application/vnd.jupyter.widget-view+json": {
       "model_id": "2e1b6787a6c24bfcb596a00fdcda7446",
       "version_major": 2,
       "version_minor": 0
      },
      "text/plain": [
       "Calculating Metrics:   0%|          | 0/8 [00:00<?, ?it/s]"
      ]
     },
     "metadata": {},
     "output_type": "display_data"
    },
    {
     "data": {
      "application/vnd.jupyter.widget-view+json": {
       "model_id": "356527170a6c48879e67f89c2adaac1b",
       "version_major": 2,
       "version_minor": 0
      },
      "text/plain": [
       "Calculating Metrics:   0%|          | 0/8 [00:00<?, ?it/s]"
      ]
     },
     "metadata": {},
     "output_type": "display_data"
    },
    {
     "data": {
      "application/vnd.jupyter.widget-view+json": {
       "model_id": "ad2cd81dd6534a67903c363ea65955eb",
       "version_major": 2,
       "version_minor": 0
      },
      "text/plain": [
       "Calculating Metrics:   0%|          | 0/8 [00:00<?, ?it/s]"
      ]
     },
     "metadata": {},
     "output_type": "display_data"
    },
    {
     "data": {
      "application/vnd.jupyter.widget-view+json": {
       "model_id": "677c3f18ebac4e68bd6b93d90348254e",
       "version_major": 2,
       "version_minor": 0
      },
      "text/plain": [
       "Calculating Metrics:   0%|          | 0/8 [00:00<?, ?it/s]"
      ]
     },
     "metadata": {},
     "output_type": "display_data"
    },
    {
     "data": {
      "application/vnd.jupyter.widget-view+json": {
       "model_id": "58d6334864f44544bd3ca4f0287f1159",
       "version_major": 2,
       "version_minor": 0
      },
      "text/plain": [
       "Calculating Metrics:   0%|          | 0/8 [00:00<?, ?it/s]"
      ]
     },
     "metadata": {},
     "output_type": "display_data"
    },
    {
     "data": {
      "application/vnd.jupyter.widget-view+json": {
       "model_id": "2eda64dfc41f4d3eaf476b011ebb0c31",
       "version_major": 2,
       "version_minor": 0
      },
      "text/plain": [
       "Calculating Metrics:   0%|          | 0/8 [00:00<?, ?it/s]"
      ]
     },
     "metadata": {},
     "output_type": "display_data"
    }
   ],
   "source": [
    "\n",
    "output=validator.expect_column_values_to_not_be_null(column=\"latitude\")\n",
    "df=process_output_to_table (output)\n",
    "\n",
    "output=validator.expect_column_values_to_not_be_null(column=\"longitude\")\n",
    "df2=process_output_to_table (output)\n",
    "df=pd.concat([df,df2])\n",
    "\n",
    "output=validator.expect_column_values_to_not_be_null(column=\"town\")\n",
    "df2=process_output_to_table (output)\n",
    "df=pd.concat([df,df2])\n",
    "\n",
    "output=validator.expect_column_values_to_not_be_null(column=\"province\")\n",
    "df2=process_output_to_table (output)\n",
    "df=pd.concat([df,df2])\n",
    "\n",
    "output=validator.expect_column_values_to_not_be_null(column=\"address\")\n",
    "df2=process_output_to_table (output)\n",
    "df=pd.concat([df,df2])\n",
    "\n",
    "output=validator.expect_column_values_to_not_be_null(column=\"stations\")\n",
    "df2=process_output_to_table (output)\n",
    "df=pd.concat([df,df2])\n",
    "\n",
    "output=validator.expect_column_values_to_not_be_null(column=\"stations\")\n",
    "df2=process_output_to_table (output)\n",
    "df=pd.concat([df,df2])\n",
    "\n",
    "output=validator.expect_column_values_to_be_between(\"pricediesela\", min_value=0, max_value=3)\n",
    "#print (output)\n",
    "df2=process_output_to_table (output)\n",
    "df=pd.concat([df,df2])\n",
    "\n",
    "output=validator.expect_column_values_to_be_between(\"pricefuel95e10\", min_value=0, max_value=3)\n",
    "#print (output)\n",
    "df2=process_output_to_table (output)\n",
    "df=pd.concat([df,df2])\n",
    "output=validator.expect_column_values_to_be_between(\"pricefuel95e5\", min_value=0, max_value=3)\n",
    "#print (output)\n",
    "df2=process_output_to_table (output)\n",
    "df=pd.concat([df,df2])\n",
    "output=validator.expect_column_values_to_be_between(\"pricebiodiesel\", min_value=0, max_value=3)\n",
    "#print (output)\n",
    "df2=process_output_to_table (output)\n",
    "df=pd.concat([df,df2])\n",
    "\n",
    "output=validator.expect_column_values_to_be_between(\"pricebioetanol\", min_value=0, max_value=3)\n",
    "#print (output)\n",
    "df2=process_output_to_table (output)\n",
    "df=pd.concat([df,df2])\n",
    "\n",
    "output=validator.expect_column_values_to_be_between(\"pricecompressednaturalgas\", min_value=0, max_value=3)\n",
    "#print (output)\n",
    "df2=process_output_to_table (output)\n",
    "df=pd.concat([df,df2])\n",
    "\n",
    "output=validator.expect_column_values_to_be_between(\"priceliquefiednaturalgas\", min_value=0, max_value=3)\n",
    "df2=process_output_to_table (output)\n",
    "df=pd.concat([df,df2])\n",
    "\n",
    "output=validator.expect_column_values_to_be_between(\"priceliquefiedpetroleumgases\", min_value=0, max_value=3)\n",
    "df2=process_output_to_table (output)\n",
    "df=pd.concat([df,df2])\n",
    "\n",
    "output=validator.expect_column_values_to_be_between(\"pricedieselb\", min_value=0, max_value=3)\n",
    "df2=process_output_to_table (output)\n",
    "df=pd.concat([df,df2])\n",
    "\n",
    "output=validator.expect_column_values_to_be_between(\"pricedieselpremium\", min_value=0, max_value=3)\n",
    "df2=process_output_to_table (output)\n",
    "df=pd.concat([df,df2])\n",
    "\n",
    "output=validator.expect_column_values_to_be_between(\"pricefuel95e5premium\", min_value=0, max_value=3)\n",
    "df2=process_output_to_table (output)\n",
    "df=pd.concat([df,df2])\n",
    "current_datetime=datetime.now()\n",
    "\n",
    "output=validator.expect_column_values_to_be_between(\"pricefuel98e10\", min_value=0, max_value=3)\n",
    "df2=process_output_to_table (output)\n",
    "df=pd.concat([df,df2])\n",
    "\n",
    "output=validator.expect_column_values_to_be_between(\"pricefuel98e5\", min_value=0, max_value=3)\n",
    "df2=process_output_to_table (output)\n",
    "df=pd.concat([df,df2])\n",
    "\n",
    "output=validator.expect_column_values_to_be_between(\"pricehydrogen\", min_value=0, max_value=3)\n",
    "df2=process_output_to_table (output)\n",
    "df=pd.concat([df,df2])\n",
    "\n",
    "output=validator.expect_column_values_to_be_between(\"longitude\", min_value=-18.23, max_value=4.38)\n",
    "df2=process_output_to_table (output)\n",
    "df=pd.concat([df,df2])\n",
    "\n",
    "output=validator.expect_column_values_to_be_between(\"latitude\", min_value=27.0, max_value=43.9)\n",
    "df2=process_output_to_table (output)\n",
    "df=pd.concat([df,df2])\n",
    "\n"
   ]
  },
  {
   "cell_type": "code",
   "execution_count": 31,
   "id": "5f8d8697-fd54-4a0a-bfd6-52b2df3a5df6",
   "metadata": {
    "tags": []
   },
   "outputs": [
    {
     "data": {
      "text/html": [
       "<div>\n",
       "<style scoped>\n",
       "    .dataframe tbody tr th:only-of-type {\n",
       "        vertical-align: middle;\n",
       "    }\n",
       "\n",
       "    .dataframe tbody tr th {\n",
       "        vertical-align: top;\n",
       "    }\n",
       "\n",
       "    .dataframe thead th {\n",
       "        text-align: right;\n",
       "    }\n",
       "</style>\n",
       "<table border=\"1\" class=\"dataframe\">\n",
       "  <thead>\n",
       "    <tr style=\"text-align: right;\">\n",
       "      <th></th>\n",
       "      <th>success</th>\n",
       "      <th>test</th>\n",
       "      <th>expectation_config</th>\n",
       "      <th>column_tested</th>\n",
       "      <th>element_count</th>\n",
       "      <th>unexpected_count</th>\n",
       "      <th>unexpected_percent</th>\n",
       "      <th>test_time</th>\n",
       "      <th>table_tested</th>\n",
       "      <th>database_tested</th>\n",
       "    </tr>\n",
       "  </thead>\n",
       "  <tbody>\n",
       "    <tr>\n",
       "      <th>0</th>\n",
       "      <td>True</td>\n",
       "      <td>expect_column_values_to_not_be_null</td>\n",
       "      <td>[_expectation_type, _kwargs, _raw_kwargs, meta...</td>\n",
       "      <td>latitude</td>\n",
       "      <td>11927</td>\n",
       "      <td>0</td>\n",
       "      <td>0.0</td>\n",
       "      <td>2024-05-20 09:15:18.210066</td>\n",
       "      <td>bv_gasprices_locations_latest_prices_view_v1</td>\n",
       "      <td>spain_gas_prices</td>\n",
       "    </tr>\n",
       "    <tr>\n",
       "      <th>0</th>\n",
       "      <td>True</td>\n",
       "      <td>expect_column_values_to_not_be_null</td>\n",
       "      <td>[_expectation_type, _kwargs, _raw_kwargs, meta...</td>\n",
       "      <td>longitude</td>\n",
       "      <td>11927</td>\n",
       "      <td>0</td>\n",
       "      <td>0.0</td>\n",
       "      <td>2024-05-20 09:15:18.210066</td>\n",
       "      <td>bv_gasprices_locations_latest_prices_view_v1</td>\n",
       "      <td>spain_gas_prices</td>\n",
       "    </tr>\n",
       "    <tr>\n",
       "      <th>0</th>\n",
       "      <td>True</td>\n",
       "      <td>expect_column_values_to_not_be_null</td>\n",
       "      <td>[_expectation_type, _kwargs, _raw_kwargs, meta...</td>\n",
       "      <td>town</td>\n",
       "      <td>11927</td>\n",
       "      <td>0</td>\n",
       "      <td>0.0</td>\n",
       "      <td>2024-05-20 09:15:18.210066</td>\n",
       "      <td>bv_gasprices_locations_latest_prices_view_v1</td>\n",
       "      <td>spain_gas_prices</td>\n",
       "    </tr>\n",
       "    <tr>\n",
       "      <th>0</th>\n",
       "      <td>True</td>\n",
       "      <td>expect_column_values_to_not_be_null</td>\n",
       "      <td>[_expectation_type, _kwargs, _raw_kwargs, meta...</td>\n",
       "      <td>province</td>\n",
       "      <td>11927</td>\n",
       "      <td>0</td>\n",
       "      <td>0.0</td>\n",
       "      <td>2024-05-20 09:15:18.210066</td>\n",
       "      <td>bv_gasprices_locations_latest_prices_view_v1</td>\n",
       "      <td>spain_gas_prices</td>\n",
       "    </tr>\n",
       "    <tr>\n",
       "      <th>0</th>\n",
       "      <td>True</td>\n",
       "      <td>expect_column_values_to_not_be_null</td>\n",
       "      <td>[_expectation_type, _kwargs, _raw_kwargs, meta...</td>\n",
       "      <td>address</td>\n",
       "      <td>11927</td>\n",
       "      <td>0</td>\n",
       "      <td>0.0</td>\n",
       "      <td>2024-05-20 09:15:18.210066</td>\n",
       "      <td>bv_gasprices_locations_latest_prices_view_v1</td>\n",
       "      <td>spain_gas_prices</td>\n",
       "    </tr>\n",
       "    <tr>\n",
       "      <th>0</th>\n",
       "      <td>True</td>\n",
       "      <td>expect_column_values_to_not_be_null</td>\n",
       "      <td>[_expectation_type, _kwargs, _raw_kwargs, meta...</td>\n",
       "      <td>stations</td>\n",
       "      <td>11927</td>\n",
       "      <td>0</td>\n",
       "      <td>0.0</td>\n",
       "      <td>2024-05-20 09:15:18.210066</td>\n",
       "      <td>bv_gasprices_locations_latest_prices_view_v1</td>\n",
       "      <td>spain_gas_prices</td>\n",
       "    </tr>\n",
       "    <tr>\n",
       "      <th>0</th>\n",
       "      <td>True</td>\n",
       "      <td>expect_column_values_to_not_be_null</td>\n",
       "      <td>[_expectation_type, _kwargs, _raw_kwargs, meta...</td>\n",
       "      <td>stations</td>\n",
       "      <td>11927</td>\n",
       "      <td>0</td>\n",
       "      <td>0.0</td>\n",
       "      <td>2024-05-20 09:15:18.210066</td>\n",
       "      <td>bv_gasprices_locations_latest_prices_view_v1</td>\n",
       "      <td>spain_gas_prices</td>\n",
       "    </tr>\n",
       "    <tr>\n",
       "      <th>0</th>\n",
       "      <td>True</td>\n",
       "      <td>expect_column_values_to_be_between</td>\n",
       "      <td>[_expectation_type, _kwargs, _raw_kwargs, meta...</td>\n",
       "      <td>pricediesela</td>\n",
       "      <td>11927</td>\n",
       "      <td>0</td>\n",
       "      <td>0.0</td>\n",
       "      <td>2024-05-20 09:15:18.210066</td>\n",
       "      <td>bv_gasprices_locations_latest_prices_view_v1</td>\n",
       "      <td>spain_gas_prices</td>\n",
       "    </tr>\n",
       "    <tr>\n",
       "      <th>0</th>\n",
       "      <td>True</td>\n",
       "      <td>expect_column_values_to_be_between</td>\n",
       "      <td>[_expectation_type, _kwargs, _raw_kwargs, meta...</td>\n",
       "      <td>pricefuel95e10</td>\n",
       "      <td>11927</td>\n",
       "      <td>0</td>\n",
       "      <td>0.0</td>\n",
       "      <td>2024-05-20 09:15:18.210066</td>\n",
       "      <td>bv_gasprices_locations_latest_prices_view_v1</td>\n",
       "      <td>spain_gas_prices</td>\n",
       "    </tr>\n",
       "    <tr>\n",
       "      <th>0</th>\n",
       "      <td>True</td>\n",
       "      <td>expect_column_values_to_be_between</td>\n",
       "      <td>[_expectation_type, _kwargs, _raw_kwargs, meta...</td>\n",
       "      <td>pricefuel95e5</td>\n",
       "      <td>11927</td>\n",
       "      <td>0</td>\n",
       "      <td>0.0</td>\n",
       "      <td>2024-05-20 09:15:18.210066</td>\n",
       "      <td>bv_gasprices_locations_latest_prices_view_v1</td>\n",
       "      <td>spain_gas_prices</td>\n",
       "    </tr>\n",
       "    <tr>\n",
       "      <th>0</th>\n",
       "      <td>True</td>\n",
       "      <td>expect_column_values_to_be_between</td>\n",
       "      <td>[_expectation_type, _kwargs, _raw_kwargs, meta...</td>\n",
       "      <td>pricebiodiesel</td>\n",
       "      <td>11927</td>\n",
       "      <td>0</td>\n",
       "      <td>0.0</td>\n",
       "      <td>2024-05-20 09:15:18.210066</td>\n",
       "      <td>bv_gasprices_locations_latest_prices_view_v1</td>\n",
       "      <td>spain_gas_prices</td>\n",
       "    </tr>\n",
       "    <tr>\n",
       "      <th>0</th>\n",
       "      <td>True</td>\n",
       "      <td>expect_column_values_to_be_between</td>\n",
       "      <td>[_expectation_type, _kwargs, _raw_kwargs, meta...</td>\n",
       "      <td>pricebioetanol</td>\n",
       "      <td>11927</td>\n",
       "      <td>0</td>\n",
       "      <td>0.0</td>\n",
       "      <td>2024-05-20 09:15:18.210066</td>\n",
       "      <td>bv_gasprices_locations_latest_prices_view_v1</td>\n",
       "      <td>spain_gas_prices</td>\n",
       "    </tr>\n",
       "    <tr>\n",
       "      <th>0</th>\n",
       "      <td>True</td>\n",
       "      <td>expect_column_values_to_be_between</td>\n",
       "      <td>[_expectation_type, _kwargs, _raw_kwargs, meta...</td>\n",
       "      <td>pricecompressednaturalgas</td>\n",
       "      <td>11927</td>\n",
       "      <td>0</td>\n",
       "      <td>0.0</td>\n",
       "      <td>2024-05-20 09:15:18.210066</td>\n",
       "      <td>bv_gasprices_locations_latest_prices_view_v1</td>\n",
       "      <td>spain_gas_prices</td>\n",
       "    </tr>\n",
       "    <tr>\n",
       "      <th>0</th>\n",
       "      <td>True</td>\n",
       "      <td>expect_column_values_to_be_between</td>\n",
       "      <td>[_expectation_type, _kwargs, _raw_kwargs, meta...</td>\n",
       "      <td>priceliquefiednaturalgas</td>\n",
       "      <td>11927</td>\n",
       "      <td>0</td>\n",
       "      <td>0.0</td>\n",
       "      <td>2024-05-20 09:15:18.210066</td>\n",
       "      <td>bv_gasprices_locations_latest_prices_view_v1</td>\n",
       "      <td>spain_gas_prices</td>\n",
       "    </tr>\n",
       "    <tr>\n",
       "      <th>0</th>\n",
       "      <td>True</td>\n",
       "      <td>expect_column_values_to_be_between</td>\n",
       "      <td>[_expectation_type, _kwargs, _raw_kwargs, meta...</td>\n",
       "      <td>priceliquefiedpetroleumgases</td>\n",
       "      <td>11927</td>\n",
       "      <td>0</td>\n",
       "      <td>0.0</td>\n",
       "      <td>2024-05-20 09:15:18.210066</td>\n",
       "      <td>bv_gasprices_locations_latest_prices_view_v1</td>\n",
       "      <td>spain_gas_prices</td>\n",
       "    </tr>\n",
       "    <tr>\n",
       "      <th>0</th>\n",
       "      <td>True</td>\n",
       "      <td>expect_column_values_to_be_between</td>\n",
       "      <td>[_expectation_type, _kwargs, _raw_kwargs, meta...</td>\n",
       "      <td>pricedieselb</td>\n",
       "      <td>11927</td>\n",
       "      <td>0</td>\n",
       "      <td>0.0</td>\n",
       "      <td>2024-05-20 09:15:18.210066</td>\n",
       "      <td>bv_gasprices_locations_latest_prices_view_v1</td>\n",
       "      <td>spain_gas_prices</td>\n",
       "    </tr>\n",
       "    <tr>\n",
       "      <th>0</th>\n",
       "      <td>True</td>\n",
       "      <td>expect_column_values_to_be_between</td>\n",
       "      <td>[_expectation_type, _kwargs, _raw_kwargs, meta...</td>\n",
       "      <td>pricedieselpremium</td>\n",
       "      <td>11927</td>\n",
       "      <td>0</td>\n",
       "      <td>0.0</td>\n",
       "      <td>2024-05-20 09:15:18.210066</td>\n",
       "      <td>bv_gasprices_locations_latest_prices_view_v1</td>\n",
       "      <td>spain_gas_prices</td>\n",
       "    </tr>\n",
       "    <tr>\n",
       "      <th>0</th>\n",
       "      <td>True</td>\n",
       "      <td>expect_column_values_to_be_between</td>\n",
       "      <td>[_expectation_type, _kwargs, _raw_kwargs, meta...</td>\n",
       "      <td>pricefuel95e5premium</td>\n",
       "      <td>11927</td>\n",
       "      <td>0</td>\n",
       "      <td>0.0</td>\n",
       "      <td>2024-05-20 09:15:18.210066</td>\n",
       "      <td>bv_gasprices_locations_latest_prices_view_v1</td>\n",
       "      <td>spain_gas_prices</td>\n",
       "    </tr>\n",
       "    <tr>\n",
       "      <th>0</th>\n",
       "      <td>True</td>\n",
       "      <td>expect_column_values_to_be_between</td>\n",
       "      <td>[_expectation_type, _kwargs, _raw_kwargs, meta...</td>\n",
       "      <td>pricefuel98e10</td>\n",
       "      <td>11927</td>\n",
       "      <td>0</td>\n",
       "      <td>0.0</td>\n",
       "      <td>2024-05-20 09:15:18.210066</td>\n",
       "      <td>bv_gasprices_locations_latest_prices_view_v1</td>\n",
       "      <td>spain_gas_prices</td>\n",
       "    </tr>\n",
       "    <tr>\n",
       "      <th>0</th>\n",
       "      <td>True</td>\n",
       "      <td>expect_column_values_to_be_between</td>\n",
       "      <td>[_expectation_type, _kwargs, _raw_kwargs, meta...</td>\n",
       "      <td>pricefuel98e5</td>\n",
       "      <td>11927</td>\n",
       "      <td>0</td>\n",
       "      <td>0.0</td>\n",
       "      <td>2024-05-20 09:15:18.210066</td>\n",
       "      <td>bv_gasprices_locations_latest_prices_view_v1</td>\n",
       "      <td>spain_gas_prices</td>\n",
       "    </tr>\n",
       "    <tr>\n",
       "      <th>0</th>\n",
       "      <td>True</td>\n",
       "      <td>expect_column_values_to_be_between</td>\n",
       "      <td>[_expectation_type, _kwargs, _raw_kwargs, meta...</td>\n",
       "      <td>pricehydrogen</td>\n",
       "      <td>11927</td>\n",
       "      <td>0</td>\n",
       "      <td>0.0</td>\n",
       "      <td>2024-05-20 09:15:18.210066</td>\n",
       "      <td>bv_gasprices_locations_latest_prices_view_v1</td>\n",
       "      <td>spain_gas_prices</td>\n",
       "    </tr>\n",
       "    <tr>\n",
       "      <th>0</th>\n",
       "      <td>True</td>\n",
       "      <td>expect_column_values_to_be_between</td>\n",
       "      <td>[_expectation_type, _kwargs, _raw_kwargs, meta...</td>\n",
       "      <td>longitude</td>\n",
       "      <td>11927</td>\n",
       "      <td>0</td>\n",
       "      <td>0.0</td>\n",
       "      <td>2024-05-20 09:15:18.210066</td>\n",
       "      <td>bv_gasprices_locations_latest_prices_view_v1</td>\n",
       "      <td>spain_gas_prices</td>\n",
       "    </tr>\n",
       "    <tr>\n",
       "      <th>0</th>\n",
       "      <td>True</td>\n",
       "      <td>expect_column_values_to_be_between</td>\n",
       "      <td>[_expectation_type, _kwargs, _raw_kwargs, meta...</td>\n",
       "      <td>latitude</td>\n",
       "      <td>11927</td>\n",
       "      <td>0</td>\n",
       "      <td>0.0</td>\n",
       "      <td>2024-05-20 09:15:18.210066</td>\n",
       "      <td>bv_gasprices_locations_latest_prices_view_v1</td>\n",
       "      <td>spain_gas_prices</td>\n",
       "    </tr>\n",
       "  </tbody>\n",
       "</table>\n",
       "</div>"
      ],
      "text/plain": [
       "   success                                 test  \\\n",
       "0     True  expect_column_values_to_not_be_null   \n",
       "0     True  expect_column_values_to_not_be_null   \n",
       "0     True  expect_column_values_to_not_be_null   \n",
       "0     True  expect_column_values_to_not_be_null   \n",
       "0     True  expect_column_values_to_not_be_null   \n",
       "0     True  expect_column_values_to_not_be_null   \n",
       "0     True  expect_column_values_to_not_be_null   \n",
       "0     True   expect_column_values_to_be_between   \n",
       "0     True   expect_column_values_to_be_between   \n",
       "0     True   expect_column_values_to_be_between   \n",
       "0     True   expect_column_values_to_be_between   \n",
       "0     True   expect_column_values_to_be_between   \n",
       "0     True   expect_column_values_to_be_between   \n",
       "0     True   expect_column_values_to_be_between   \n",
       "0     True   expect_column_values_to_be_between   \n",
       "0     True   expect_column_values_to_be_between   \n",
       "0     True   expect_column_values_to_be_between   \n",
       "0     True   expect_column_values_to_be_between   \n",
       "0     True   expect_column_values_to_be_between   \n",
       "0     True   expect_column_values_to_be_between   \n",
       "0     True   expect_column_values_to_be_between   \n",
       "0     True   expect_column_values_to_be_between   \n",
       "0     True   expect_column_values_to_be_between   \n",
       "\n",
       "                                  expectation_config  \\\n",
       "0  [_expectation_type, _kwargs, _raw_kwargs, meta...   \n",
       "0  [_expectation_type, _kwargs, _raw_kwargs, meta...   \n",
       "0  [_expectation_type, _kwargs, _raw_kwargs, meta...   \n",
       "0  [_expectation_type, _kwargs, _raw_kwargs, meta...   \n",
       "0  [_expectation_type, _kwargs, _raw_kwargs, meta...   \n",
       "0  [_expectation_type, _kwargs, _raw_kwargs, meta...   \n",
       "0  [_expectation_type, _kwargs, _raw_kwargs, meta...   \n",
       "0  [_expectation_type, _kwargs, _raw_kwargs, meta...   \n",
       "0  [_expectation_type, _kwargs, _raw_kwargs, meta...   \n",
       "0  [_expectation_type, _kwargs, _raw_kwargs, meta...   \n",
       "0  [_expectation_type, _kwargs, _raw_kwargs, meta...   \n",
       "0  [_expectation_type, _kwargs, _raw_kwargs, meta...   \n",
       "0  [_expectation_type, _kwargs, _raw_kwargs, meta...   \n",
       "0  [_expectation_type, _kwargs, _raw_kwargs, meta...   \n",
       "0  [_expectation_type, _kwargs, _raw_kwargs, meta...   \n",
       "0  [_expectation_type, _kwargs, _raw_kwargs, meta...   \n",
       "0  [_expectation_type, _kwargs, _raw_kwargs, meta...   \n",
       "0  [_expectation_type, _kwargs, _raw_kwargs, meta...   \n",
       "0  [_expectation_type, _kwargs, _raw_kwargs, meta...   \n",
       "0  [_expectation_type, _kwargs, _raw_kwargs, meta...   \n",
       "0  [_expectation_type, _kwargs, _raw_kwargs, meta...   \n",
       "0  [_expectation_type, _kwargs, _raw_kwargs, meta...   \n",
       "0  [_expectation_type, _kwargs, _raw_kwargs, meta...   \n",
       "\n",
       "                  column_tested  element_count  unexpected_count  \\\n",
       "0                      latitude          11927                 0   \n",
       "0                     longitude          11927                 0   \n",
       "0                          town          11927                 0   \n",
       "0                      province          11927                 0   \n",
       "0                       address          11927                 0   \n",
       "0                      stations          11927                 0   \n",
       "0                      stations          11927                 0   \n",
       "0                  pricediesela          11927                 0   \n",
       "0                pricefuel95e10          11927                 0   \n",
       "0                 pricefuel95e5          11927                 0   \n",
       "0                pricebiodiesel          11927                 0   \n",
       "0                pricebioetanol          11927                 0   \n",
       "0     pricecompressednaturalgas          11927                 0   \n",
       "0      priceliquefiednaturalgas          11927                 0   \n",
       "0  priceliquefiedpetroleumgases          11927                 0   \n",
       "0                  pricedieselb          11927                 0   \n",
       "0            pricedieselpremium          11927                 0   \n",
       "0          pricefuel95e5premium          11927                 0   \n",
       "0                pricefuel98e10          11927                 0   \n",
       "0                 pricefuel98e5          11927                 0   \n",
       "0                 pricehydrogen          11927                 0   \n",
       "0                     longitude          11927                 0   \n",
       "0                      latitude          11927                 0   \n",
       "\n",
       "   unexpected_percent                  test_time  \\\n",
       "0                 0.0 2024-05-20 09:15:18.210066   \n",
       "0                 0.0 2024-05-20 09:15:18.210066   \n",
       "0                 0.0 2024-05-20 09:15:18.210066   \n",
       "0                 0.0 2024-05-20 09:15:18.210066   \n",
       "0                 0.0 2024-05-20 09:15:18.210066   \n",
       "0                 0.0 2024-05-20 09:15:18.210066   \n",
       "0                 0.0 2024-05-20 09:15:18.210066   \n",
       "0                 0.0 2024-05-20 09:15:18.210066   \n",
       "0                 0.0 2024-05-20 09:15:18.210066   \n",
       "0                 0.0 2024-05-20 09:15:18.210066   \n",
       "0                 0.0 2024-05-20 09:15:18.210066   \n",
       "0                 0.0 2024-05-20 09:15:18.210066   \n",
       "0                 0.0 2024-05-20 09:15:18.210066   \n",
       "0                 0.0 2024-05-20 09:15:18.210066   \n",
       "0                 0.0 2024-05-20 09:15:18.210066   \n",
       "0                 0.0 2024-05-20 09:15:18.210066   \n",
       "0                 0.0 2024-05-20 09:15:18.210066   \n",
       "0                 0.0 2024-05-20 09:15:18.210066   \n",
       "0                 0.0 2024-05-20 09:15:18.210066   \n",
       "0                 0.0 2024-05-20 09:15:18.210066   \n",
       "0                 0.0 2024-05-20 09:15:18.210066   \n",
       "0                 0.0 2024-05-20 09:15:18.210066   \n",
       "0                 0.0 2024-05-20 09:15:18.210066   \n",
       "\n",
       "                                   table_tested   database_tested  \n",
       "0  bv_gasprices_locations_latest_prices_view_v1  spain_gas_prices  \n",
       "0  bv_gasprices_locations_latest_prices_view_v1  spain_gas_prices  \n",
       "0  bv_gasprices_locations_latest_prices_view_v1  spain_gas_prices  \n",
       "0  bv_gasprices_locations_latest_prices_view_v1  spain_gas_prices  \n",
       "0  bv_gasprices_locations_latest_prices_view_v1  spain_gas_prices  \n",
       "0  bv_gasprices_locations_latest_prices_view_v1  spain_gas_prices  \n",
       "0  bv_gasprices_locations_latest_prices_view_v1  spain_gas_prices  \n",
       "0  bv_gasprices_locations_latest_prices_view_v1  spain_gas_prices  \n",
       "0  bv_gasprices_locations_latest_prices_view_v1  spain_gas_prices  \n",
       "0  bv_gasprices_locations_latest_prices_view_v1  spain_gas_prices  \n",
       "0  bv_gasprices_locations_latest_prices_view_v1  spain_gas_prices  \n",
       "0  bv_gasprices_locations_latest_prices_view_v1  spain_gas_prices  \n",
       "0  bv_gasprices_locations_latest_prices_view_v1  spain_gas_prices  \n",
       "0  bv_gasprices_locations_latest_prices_view_v1  spain_gas_prices  \n",
       "0  bv_gasprices_locations_latest_prices_view_v1  spain_gas_prices  \n",
       "0  bv_gasprices_locations_latest_prices_view_v1  spain_gas_prices  \n",
       "0  bv_gasprices_locations_latest_prices_view_v1  spain_gas_prices  \n",
       "0  bv_gasprices_locations_latest_prices_view_v1  spain_gas_prices  \n",
       "0  bv_gasprices_locations_latest_prices_view_v1  spain_gas_prices  \n",
       "0  bv_gasprices_locations_latest_prices_view_v1  spain_gas_prices  \n",
       "0  bv_gasprices_locations_latest_prices_view_v1  spain_gas_prices  \n",
       "0  bv_gasprices_locations_latest_prices_view_v1  spain_gas_prices  \n",
       "0  bv_gasprices_locations_latest_prices_view_v1  spain_gas_prices  "
      ]
     },
     "execution_count": 31,
     "metadata": {},
     "output_type": "execute_result"
    }
   ],
   "source": [
    "# Lets see the df with all the results, and the timestamp well formated for the insert to the iceberg table.\n",
    "\n",
    "df['test_time']=current_datetime\n",
    "df['table_tested']=\"bv_gasprices_locations_latest_prices_view_v1\"\n",
    "df['database_tested']=\"spain_gas_prices\"\n",
    "df"
   ]
  },
  {
   "cell_type": "markdown",
   "id": "390aecce-3057-472c-b3b2-030d1958c0ca",
   "metadata": {},
   "source": [
    "### Create a Spark Session to save the results to the iceberg table"
   ]
  },
  {
   "cell_type": "code",
   "execution_count": 33,
   "id": "06284f37-1581-4ded-bb96-20e219b93d71",
   "metadata": {
    "tags": []
   },
   "outputs": [
    {
     "name": "stderr",
     "output_type": "stream",
     "text": [
      "Setting spark.hadoop.yarn.resourcemanager.principal to smerchan\n"
     ]
    },
    {
     "name": "stdout",
     "output_type": "stream",
     "text": [
      "Spark Application Id:spark-cb8bd75733de4343aa60c8d0804cfe0c\n"
     ]
    },
    {
     "name": "stderr",
     "output_type": "stream",
     "text": [
      "Hive Session ID = e944632d-7f35-4a61-992f-eb66e0a616db\n"
     ]
    },
    {
     "name": "stdout",
     "output_type": "stream",
     "text": [
      "+--------------------+\n",
      "|           namespace|\n",
      "+--------------------+\n",
      "|               cyber|\n",
      "|             default|\n",
      "|  information_schema|\n",
      "|logistics_mlops_p...|\n",
      "|             martydb|\n",
      "|          smallfiles|\n",
      "|    spain_gas_prices|\n",
      "|                 sys|\n",
      "|telco_mlops_pauld...|\n",
      "+--------------------+\n",
      "\n"
     ]
    }
   ],
   "source": [
    "\n",
    "CONNECTION_NAME = \"se-aw-edl\"\n",
    "conn = cmldata.get_connection(CONNECTION_NAME)\n",
    "spark = conn.get_spark_session()\n",
    "\n",
    "# Sample usage to run query through spark\n",
    "EXAMPLE_SQL_QUERY = \"show databases\"\n",
    "spark.sql(EXAMPLE_SQL_QUERY).show()\n"
   ]
  },
  {
   "cell_type": "markdown",
   "id": "78434cd6-69f3-4671-84c2-42501072c1df",
   "metadata": {},
   "source": [
    "### Writing data to the table\n",
    "Using a iteration loop for each record, we save the data to the database."
   ]
  },
  {
   "cell_type": "code",
   "execution_count": 34,
   "id": "85e0b724-33aa-4f49-ade1-95fee53a899c",
   "metadata": {
    "tags": []
   },
   "outputs": [
    {
     "name": "stderr",
     "output_type": "stream",
     "text": [
      "                                                                                \r"
     ]
    },
    {
     "name": "stdout",
     "output_type": "stream",
     "text": [
      "++\n",
      "||\n",
      "++\n",
      "++\n",
      "\n"
     ]
    },
    {
     "name": "stderr",
     "output_type": "stream",
     "text": [
      "                                                                                \r"
     ]
    },
    {
     "name": "stdout",
     "output_type": "stream",
     "text": [
      "++\n",
      "||\n",
      "++\n",
      "++\n",
      "\n"
     ]
    },
    {
     "name": "stderr",
     "output_type": "stream",
     "text": [
      "                                                                                \r"
     ]
    },
    {
     "name": "stdout",
     "output_type": "stream",
     "text": [
      "++\n",
      "||\n",
      "++\n",
      "++\n",
      "\n"
     ]
    },
    {
     "name": "stderr",
     "output_type": "stream",
     "text": [
      "                                                                                \r"
     ]
    },
    {
     "name": "stdout",
     "output_type": "stream",
     "text": [
      "++\n",
      "||\n",
      "++\n",
      "++\n",
      "\n"
     ]
    },
    {
     "name": "stderr",
     "output_type": "stream",
     "text": [
      "                                                                                \r"
     ]
    },
    {
     "name": "stdout",
     "output_type": "stream",
     "text": [
      "++\n",
      "||\n",
      "++\n",
      "++\n",
      "\n"
     ]
    },
    {
     "name": "stderr",
     "output_type": "stream",
     "text": [
      "                                                                                \r"
     ]
    },
    {
     "name": "stdout",
     "output_type": "stream",
     "text": [
      "++\n",
      "||\n",
      "++\n",
      "++\n",
      "\n"
     ]
    },
    {
     "name": "stderr",
     "output_type": "stream",
     "text": [
      "                                                                                \r"
     ]
    },
    {
     "name": "stdout",
     "output_type": "stream",
     "text": [
      "++\n",
      "||\n",
      "++\n",
      "++\n",
      "\n"
     ]
    },
    {
     "name": "stderr",
     "output_type": "stream",
     "text": [
      "                                                                                \r"
     ]
    },
    {
     "name": "stdout",
     "output_type": "stream",
     "text": [
      "++\n",
      "||\n",
      "++\n",
      "++\n",
      "\n"
     ]
    },
    {
     "name": "stderr",
     "output_type": "stream",
     "text": [
      "                                                                                \r"
     ]
    },
    {
     "name": "stdout",
     "output_type": "stream",
     "text": [
      "++\n",
      "||\n",
      "++\n",
      "++\n",
      "\n"
     ]
    },
    {
     "name": "stderr",
     "output_type": "stream",
     "text": [
      "                                                                                \r"
     ]
    },
    {
     "name": "stdout",
     "output_type": "stream",
     "text": [
      "++\n",
      "||\n",
      "++\n",
      "++\n",
      "\n"
     ]
    },
    {
     "name": "stderr",
     "output_type": "stream",
     "text": [
      "                                                                                \r"
     ]
    },
    {
     "name": "stdout",
     "output_type": "stream",
     "text": [
      "++\n",
      "||\n",
      "++\n",
      "++\n",
      "\n"
     ]
    },
    {
     "name": "stderr",
     "output_type": "stream",
     "text": [
      "                                                                                \r"
     ]
    },
    {
     "name": "stdout",
     "output_type": "stream",
     "text": [
      "++\n",
      "||\n",
      "++\n",
      "++\n",
      "\n",
      "++\n",
      "||\n",
      "++\n",
      "++\n",
      "\n",
      "++\n",
      "||\n",
      "++\n",
      "++\n",
      "\n"
     ]
    },
    {
     "name": "stderr",
     "output_type": "stream",
     "text": [
      "                                                                                \r"
     ]
    },
    {
     "name": "stdout",
     "output_type": "stream",
     "text": [
      "++\n",
      "||\n",
      "++\n",
      "++\n",
      "\n"
     ]
    },
    {
     "name": "stderr",
     "output_type": "stream",
     "text": [
      "                                                                                \r"
     ]
    },
    {
     "name": "stdout",
     "output_type": "stream",
     "text": [
      "++\n",
      "||\n",
      "++\n",
      "++\n",
      "\n",
      "++\n",
      "||\n",
      "++\n",
      "++\n",
      "\n"
     ]
    },
    {
     "name": "stderr",
     "output_type": "stream",
     "text": [
      "                                                                                \r"
     ]
    },
    {
     "name": "stdout",
     "output_type": "stream",
     "text": [
      "++\n",
      "||\n",
      "++\n",
      "++\n",
      "\n",
      "++\n",
      "||\n",
      "++\n",
      "++\n",
      "\n"
     ]
    },
    {
     "name": "stderr",
     "output_type": "stream",
     "text": [
      "                                                                                \r"
     ]
    },
    {
     "name": "stdout",
     "output_type": "stream",
     "text": [
      "++\n",
      "||\n",
      "++\n",
      "++\n",
      "\n",
      "++\n",
      "||\n",
      "++\n",
      "++\n",
      "\n",
      "++\n",
      "||\n",
      "++\n",
      "++\n",
      "\n"
     ]
    },
    {
     "name": "stderr",
     "output_type": "stream",
     "text": [
      "                                                                                \r"
     ]
    },
    {
     "name": "stdout",
     "output_type": "stream",
     "text": [
      "++\n",
      "||\n",
      "++\n",
      "++\n",
      "\n"
     ]
    }
   ],
   "source": [
    "for index,row in df.iterrows():\n",
    "    #print (f\"Success:{row['success']} Test:{row['test']} Column:{row['column_tested']} Element Count:{row['element_count']}\")\n",
    "    test_time=datetime.strptime(str(row['test_time']),\"%Y-%m-%d %H:%M:%S.%f\")\n",
    "    test_time_str_iceberg=test_time.strftime('%Y-%m-%d')\n",
    "    #print (test_time_str_iceberg)\n",
    "    # Here we will need a way to insert the data in the SQL\n",
    "    sql_sentence= \"insert into \"+quality_database+\".\"+quality_table\n",
    "    sql_sentence+= \"(sucess, test, expectation_config, column_tested, element_count, unexpected_count, \"\n",
    "    sql_sentence+= \"unexpected_percent, test_time, table_tested, database_tested) \"\n",
    "    sql_sentence+= \"values (\"\n",
    "    sql_sentence+=\"'\"\n",
    "    sql_sentence+=str(row['success'])\n",
    "    sql_sentence+=\"'\"\n",
    "    sql_sentence+=\",\"\n",
    "    sql_sentence+=\"'\"\n",
    "    sql_sentence+=row['test']\n",
    "    sql_sentence+=\"'\"\n",
    "    sql_sentence+=\",\"\n",
    "    sql_sentence+=\"'\"\n",
    "    sql_sentence+=str(row['expectation_config'])\n",
    "    sql_sentence+=\"'\"\n",
    "    sql_sentence+=\",\"\n",
    "    sql_sentence+=\"'\"\n",
    "    sql_sentence+=row['column_tested']\n",
    "    sql_sentence+=\"'\"\n",
    "    sql_sentence+=\",\"\n",
    "    sql_sentence+=str(row['element_count'])\n",
    "    sql_sentence+=\",\"\n",
    "    sql_sentence+=str(row['unexpected_count'])\n",
    "    sql_sentence+=\",\"\n",
    "    sql_sentence+=str(row['unexpected_percent'])\n",
    "    sql_sentence+=\",\"\n",
    "    sql_sentence+=\"cast('\"+test_time_str_iceberg+\"' as date)\"\n",
    "    sql_sentence+=\",\"\n",
    "    sql_sentence+=\"'\"\n",
    "    sql_sentence+=row['table_tested']\n",
    "    sql_sentence+=\"'\"\n",
    "    sql_sentence+=\",\"\n",
    "    sql_sentence+=\"'\"\n",
    "    sql_sentence+=row['database_tested']\n",
    "    sql_sentence+=\"'\"\n",
    "    sql_sentence+=\")\"\n",
    "    #print (sql_sentence)\n",
    "    spark.sql(sql_sentence).show()"
   ]
  },
  {
   "cell_type": "code",
   "execution_count": 16,
   "id": "bb3657d4-af5a-4a5e-ac18-389ce4f19f9c",
   "metadata": {
    "tags": []
   },
   "outputs": [],
   "source": [
    "## Let's see the list of expectations loaded\n",
    "##validator.get_expectation_suite()"
   ]
  },
  {
   "cell_type": "code",
   "execution_count": 27,
   "id": "481a67f0-922f-4fde-b27e-c9f9a1859d7d",
   "metadata": {},
   "outputs": [],
   "source": [
    "#my_suite = validator.get_expectation_suite(\"gas_stations_expectation_suite\")"
   ]
  },
  {
   "cell_type": "code",
   "execution_count": 28,
   "id": "1b9169b4-59b9-4878-96b4-7594b003c1ea",
   "metadata": {
    "tags": []
   },
   "outputs": [],
   "source": [
    "#my_suite.show_expectations_by_expectation_type()"
   ]
  },
  {
   "cell_type": "code",
   "execution_count": null,
   "id": "b15df3c8-9074-4bd8-b06b-11b59a90e39a",
   "metadata": {},
   "outputs": [],
   "source": []
  }
 ],
 "metadata": {
  "kernelspec": {
   "display_name": "Python 3 (ipykernel)",
   "language": "python",
   "name": "python3"
  },
  "language_info": {
   "codemirror_mode": {
    "name": "ipython",
    "version": 3
   },
   "file_extension": ".py",
   "mimetype": "text/x-python",
   "name": "python",
   "nbconvert_exporter": "python",
   "pygments_lexer": "ipython3",
   "version": "3.10.13"
  }
 },
 "nbformat": 4,
 "nbformat_minor": 5
}
